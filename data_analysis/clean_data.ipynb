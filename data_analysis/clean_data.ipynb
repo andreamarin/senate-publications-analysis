{
 "cells": [
  {
   "cell_type": "code",
   "execution_count": 401,
   "id": "7397a506",
   "metadata": {},
   "outputs": [],
   "source": [
    "import importlib\n",
    "import regex as re\n",
    "import pandas as pd\n",
    "from tqdm import tqdm\n",
    "from operator import itemgetter\n",
    "from unidecode import unidecode"
   ]
  },
  {
   "cell_type": "code",
   "execution_count": 457,
   "id": "b6fbced3",
   "metadata": {},
   "outputs": [],
   "source": [
    "import utils.db as db\n",
    "import utils.clean_data as c"
   ]
  },
  {
   "cell_type": "code",
   "execution_count": 480,
   "id": "589923bd",
   "metadata": {},
   "outputs": [
    {
     "data": {
      "text/plain": [
       "<module 'utils.clean_data' from '/Users/andreamarin/Documents/personal_projects/keyword-classifier/data_analysis/utils/clean_data.py'>"
      ]
     },
     "execution_count": 480,
     "metadata": {},
     "output_type": "execute_result"
    }
   ],
   "source": [
    "importlib.reload(c)"
   ]
  },
  {
   "cell_type": "code",
   "execution_count": 490,
   "id": "e76ace8d",
   "metadata": {},
   "outputs": [
    {
     "ename": "ConfigurationError",
     "evalue": "The resolution lifetime expired after 21.133 seconds: Server Do53:192.168.8.1@53 answered The DNS operation timed out.; Server Do53:192.168.8.1@53 answered The DNS operation timed out.; Server Do53:192.168.8.1@53 answered The DNS operation timed out.; Server Do53:192.168.8.1@53 answered The DNS operation timed out.; Server Do53:192.168.8.1@53 answered The DNS operation timed out.; Server Do53:192.168.8.1@53 answered The DNS operation timed out.; Server Do53:192.168.8.1@53 answered The DNS operation timed out.",
     "output_type": "error",
     "traceback": [
      "\u001b[0;31m---------------------------------------------------------------------------\u001b[0m",
      "\u001b[0;31mLifetimeTimeout\u001b[0m                           Traceback (most recent call last)",
      "File \u001b[0;32m~/.pyenv/versions/data_analysis/lib/python3.11/site-packages/pymongo/srv_resolver.py:89\u001b[0m, in \u001b[0;36m_SrvResolver._resolve_uri\u001b[0;34m(self, encapsulate_errors)\u001b[0m\n\u001b[1;32m     88\u001b[0m \u001b[38;5;28;01mtry\u001b[39;00m:\n\u001b[0;32m---> 89\u001b[0m     results \u001b[38;5;241m=\u001b[39m \u001b[43m_resolve\u001b[49m\u001b[43m(\u001b[49m\n\u001b[1;32m     90\u001b[0m \u001b[43m        \u001b[49m\u001b[38;5;124;43m\"\u001b[39;49m\u001b[38;5;124;43m_\u001b[39;49m\u001b[38;5;124;43m\"\u001b[39;49m\u001b[43m \u001b[49m\u001b[38;5;241;43m+\u001b[39;49m\u001b[43m \u001b[49m\u001b[38;5;28;43mself\u001b[39;49m\u001b[38;5;241;43m.\u001b[39;49m\u001b[43m__srv\u001b[49m\u001b[43m \u001b[49m\u001b[38;5;241;43m+\u001b[39;49m\u001b[43m \u001b[49m\u001b[38;5;124;43m\"\u001b[39;49m\u001b[38;5;124;43m._tcp.\u001b[39;49m\u001b[38;5;124;43m\"\u001b[39;49m\u001b[43m \u001b[49m\u001b[38;5;241;43m+\u001b[39;49m\u001b[43m \u001b[49m\u001b[38;5;28;43mself\u001b[39;49m\u001b[38;5;241;43m.\u001b[39;49m\u001b[43m__fqdn\u001b[49m\u001b[43m,\u001b[49m\u001b[43m \u001b[49m\u001b[38;5;124;43m\"\u001b[39;49m\u001b[38;5;124;43mSRV\u001b[39;49m\u001b[38;5;124;43m\"\u001b[39;49m\u001b[43m,\u001b[49m\u001b[43m \u001b[49m\u001b[43mlifetime\u001b[49m\u001b[38;5;241;43m=\u001b[39;49m\u001b[38;5;28;43mself\u001b[39;49m\u001b[38;5;241;43m.\u001b[39;49m\u001b[43m__connect_timeout\u001b[49m\n\u001b[1;32m     91\u001b[0m \u001b[43m    \u001b[49m\u001b[43m)\u001b[49m\n\u001b[1;32m     92\u001b[0m \u001b[38;5;28;01mexcept\u001b[39;00m \u001b[38;5;167;01mException\u001b[39;00m \u001b[38;5;28;01mas\u001b[39;00m exc:\n",
      "File \u001b[0;32m~/.pyenv/versions/data_analysis/lib/python3.11/site-packages/pymongo/srv_resolver.py:43\u001b[0m, in \u001b[0;36m_resolve\u001b[0;34m(*args, **kwargs)\u001b[0m\n\u001b[1;32m     41\u001b[0m \u001b[38;5;28;01mif\u001b[39;00m \u001b[38;5;28mhasattr\u001b[39m(resolver, \u001b[38;5;124m\"\u001b[39m\u001b[38;5;124mresolve\u001b[39m\u001b[38;5;124m\"\u001b[39m):\n\u001b[1;32m     42\u001b[0m     \u001b[38;5;66;03m# dnspython >= 2\u001b[39;00m\n\u001b[0;32m---> 43\u001b[0m     \u001b[38;5;28;01mreturn\u001b[39;00m \u001b[43mresolver\u001b[49m\u001b[38;5;241;43m.\u001b[39;49m\u001b[43mresolve\u001b[49m\u001b[43m(\u001b[49m\u001b[38;5;241;43m*\u001b[39;49m\u001b[43margs\u001b[49m\u001b[43m,\u001b[49m\u001b[43m \u001b[49m\u001b[38;5;241;43m*\u001b[39;49m\u001b[38;5;241;43m*\u001b[39;49m\u001b[43mkwargs\u001b[49m\u001b[43m)\u001b[49m\n\u001b[1;32m     44\u001b[0m \u001b[38;5;66;03m# dnspython 1.X\u001b[39;00m\n",
      "File \u001b[0;32m~/.pyenv/versions/data_analysis/lib/python3.11/site-packages/dns/resolver.py:1565\u001b[0m, in \u001b[0;36mresolve\u001b[0;34m(qname, rdtype, rdclass, tcp, source, raise_on_no_answer, source_port, lifetime, search)\u001b[0m\n\u001b[1;32m   1556\u001b[0m \u001b[38;5;250m\u001b[39m\u001b[38;5;124;03m\"\"\"Query nameservers to find the answer to the question.\u001b[39;00m\n\u001b[1;32m   1557\u001b[0m \n\u001b[1;32m   1558\u001b[0m \u001b[38;5;124;03mThis is a convenience function that uses the default resolver\u001b[39;00m\n\u001b[0;32m   (...)\u001b[0m\n\u001b[1;32m   1562\u001b[0m \u001b[38;5;124;03mparameters.\u001b[39;00m\n\u001b[1;32m   1563\u001b[0m \u001b[38;5;124;03m\"\"\"\u001b[39;00m\n\u001b[0;32m-> 1565\u001b[0m \u001b[38;5;28;01mreturn\u001b[39;00m \u001b[43mget_default_resolver\u001b[49m\u001b[43m(\u001b[49m\u001b[43m)\u001b[49m\u001b[38;5;241;43m.\u001b[39;49m\u001b[43mresolve\u001b[49m\u001b[43m(\u001b[49m\n\u001b[1;32m   1566\u001b[0m \u001b[43m    \u001b[49m\u001b[43mqname\u001b[49m\u001b[43m,\u001b[49m\n\u001b[1;32m   1567\u001b[0m \u001b[43m    \u001b[49m\u001b[43mrdtype\u001b[49m\u001b[43m,\u001b[49m\n\u001b[1;32m   1568\u001b[0m \u001b[43m    \u001b[49m\u001b[43mrdclass\u001b[49m\u001b[43m,\u001b[49m\n\u001b[1;32m   1569\u001b[0m \u001b[43m    \u001b[49m\u001b[43mtcp\u001b[49m\u001b[43m,\u001b[49m\n\u001b[1;32m   1570\u001b[0m \u001b[43m    \u001b[49m\u001b[43msource\u001b[49m\u001b[43m,\u001b[49m\n\u001b[1;32m   1571\u001b[0m \u001b[43m    \u001b[49m\u001b[43mraise_on_no_answer\u001b[49m\u001b[43m,\u001b[49m\n\u001b[1;32m   1572\u001b[0m \u001b[43m    \u001b[49m\u001b[43msource_port\u001b[49m\u001b[43m,\u001b[49m\n\u001b[1;32m   1573\u001b[0m \u001b[43m    \u001b[49m\u001b[43mlifetime\u001b[49m\u001b[43m,\u001b[49m\n\u001b[1;32m   1574\u001b[0m \u001b[43m    \u001b[49m\u001b[43msearch\u001b[49m\u001b[43m,\u001b[49m\n\u001b[1;32m   1575\u001b[0m \u001b[43m\u001b[49m\u001b[43m)\u001b[49m\n",
      "File \u001b[0;32m~/.pyenv/versions/data_analysis/lib/python3.11/site-packages/dns/resolver.py:1321\u001b[0m, in \u001b[0;36mResolver.resolve\u001b[0;34m(self, qname, rdtype, rdclass, tcp, source, raise_on_no_answer, source_port, lifetime, search)\u001b[0m\n\u001b[1;32m   1320\u001b[0m     time\u001b[38;5;241m.\u001b[39msleep(backoff)\n\u001b[0;32m-> 1321\u001b[0m timeout \u001b[38;5;241m=\u001b[39m \u001b[38;5;28;43mself\u001b[39;49m\u001b[38;5;241;43m.\u001b[39;49m\u001b[43m_compute_timeout\u001b[49m\u001b[43m(\u001b[49m\u001b[43mstart\u001b[49m\u001b[43m,\u001b[49m\u001b[43m \u001b[49m\u001b[43mlifetime\u001b[49m\u001b[43m,\u001b[49m\u001b[43m \u001b[49m\u001b[43mresolution\u001b[49m\u001b[38;5;241;43m.\u001b[39;49m\u001b[43merrors\u001b[49m\u001b[43m)\u001b[49m\n\u001b[1;32m   1322\u001b[0m \u001b[38;5;28;01mtry\u001b[39;00m:\n",
      "File \u001b[0;32m~/.pyenv/versions/data_analysis/lib/python3.11/site-packages/dns/resolver.py:1075\u001b[0m, in \u001b[0;36mBaseResolver._compute_timeout\u001b[0;34m(self, start, lifetime, errors)\u001b[0m\n\u001b[1;32m   1074\u001b[0m \u001b[38;5;28;01mif\u001b[39;00m duration \u001b[38;5;241m>\u001b[39m\u001b[38;5;241m=\u001b[39m lifetime:\n\u001b[0;32m-> 1075\u001b[0m     \u001b[38;5;28;01mraise\u001b[39;00m LifetimeTimeout(timeout\u001b[38;5;241m=\u001b[39mduration, errors\u001b[38;5;241m=\u001b[39merrors)\n\u001b[1;32m   1076\u001b[0m \u001b[38;5;28;01mreturn\u001b[39;00m \u001b[38;5;28mmin\u001b[39m(lifetime \u001b[38;5;241m-\u001b[39m duration, \u001b[38;5;28mself\u001b[39m\u001b[38;5;241m.\u001b[39mtimeout)\n",
      "\u001b[0;31mLifetimeTimeout\u001b[0m: The resolution lifetime expired after 21.133 seconds: Server Do53:192.168.8.1@53 answered The DNS operation timed out.; Server Do53:192.168.8.1@53 answered The DNS operation timed out.; Server Do53:192.168.8.1@53 answered The DNS operation timed out.; Server Do53:192.168.8.1@53 answered The DNS operation timed out.; Server Do53:192.168.8.1@53 answered The DNS operation timed out.; Server Do53:192.168.8.1@53 answered The DNS operation timed out.; Server Do53:192.168.8.1@53 answered The DNS operation timed out.",
      "\nDuring handling of the above exception, another exception occurred:\n",
      "\u001b[0;31mConfigurationError\u001b[0m                        Traceback (most recent call last)",
      "Cell \u001b[0;32mIn[490], line 1\u001b[0m\n\u001b[0;32m----> 1\u001b[0m conn \u001b[38;5;241m=\u001b[39m \u001b[43mdb\u001b[49m\u001b[38;5;241;43m.\u001b[39;49m\u001b[43mconnect_mongo_db\u001b[49m\u001b[43m(\u001b[49m\u001b[38;5;124;43m\"\u001b[39;49m\u001b[38;5;124;43msenate-publication\u001b[39;49m\u001b[38;5;124;43m\"\u001b[39;49m\u001b[43m)\u001b[49m\n",
      "File \u001b[0;32m~/Documents/personal_projects/keyword-classifier/data_analysis/utils/db.py:25\u001b[0m, in \u001b[0;36mconnect_mongo_db\u001b[0;34m(db_name)\u001b[0m\n\u001b[1;32m     22\u001b[0m cert_file \u001b[38;5;241m=\u001b[39m \u001b[38;5;124mf\u001b[39m\u001b[38;5;124m\"\u001b[39m\u001b[38;5;132;01m{\u001b[39;00mparent_path\u001b[38;5;132;01m}\u001b[39;00m\u001b[38;5;124m/config/bot-cert.pem\u001b[39m\u001b[38;5;124m\"\u001b[39m\n\u001b[1;32m     24\u001b[0m uri \u001b[38;5;241m=\u001b[39m \u001b[38;5;124m\"\u001b[39m\u001b[38;5;124mmongodb+srv://senate-publication.at2rlna.mongodb.net/?authSource=\u001b[39m\u001b[38;5;132;01m%24e\u001b[39;00m\u001b[38;5;124mxternal&authMechanism=MONGODB-X509&retryWrites=true&w=majority\u001b[39m\u001b[38;5;124m\"\u001b[39m\n\u001b[0;32m---> 25\u001b[0m client \u001b[38;5;241m=\u001b[39m \u001b[43mMongoClient\u001b[49m\u001b[43m(\u001b[49m\n\u001b[1;32m     26\u001b[0m \u001b[43m    \u001b[49m\u001b[43mhost\u001b[49m\u001b[38;5;241;43m=\u001b[39;49m\u001b[43muri\u001b[49m\u001b[43m,\u001b[49m\n\u001b[1;32m     27\u001b[0m \u001b[43m    \u001b[49m\u001b[43mtls\u001b[49m\u001b[38;5;241;43m=\u001b[39;49m\u001b[38;5;28;43;01mTrue\u001b[39;49;00m\u001b[43m,\u001b[49m\n\u001b[1;32m     28\u001b[0m \u001b[43m    \u001b[49m\u001b[43mtlsCertificateKeyFile\u001b[49m\u001b[38;5;241;43m=\u001b[39;49m\u001b[43mcert_file\u001b[49m\u001b[43m,\u001b[49m\n\u001b[1;32m     29\u001b[0m \u001b[43m    \u001b[49m\u001b[43mserver_api\u001b[49m\u001b[38;5;241;43m=\u001b[39;49m\u001b[43mServerApi\u001b[49m\u001b[43m(\u001b[49m\u001b[38;5;124;43m'\u001b[39;49m\u001b[38;5;124;43m1\u001b[39;49m\u001b[38;5;124;43m'\u001b[39;49m\u001b[43m)\u001b[49m\n\u001b[1;32m     30\u001b[0m \u001b[43m\u001b[49m\u001b[43m)\u001b[49m\n\u001b[1;32m     31\u001b[0m \u001b[38;5;28;01mreturn\u001b[39;00m client[db_name]\n",
      "File \u001b[0;32m~/.pyenv/versions/data_analysis/lib/python3.11/site-packages/pymongo/mongo_client.py:736\u001b[0m, in \u001b[0;36mMongoClient.__init__\u001b[0;34m(self, host, port, document_class, tz_aware, connect, type_registry, **kwargs)\u001b[0m\n\u001b[1;32m    732\u001b[0m \u001b[38;5;28;01mif\u001b[39;00m timeout \u001b[38;5;129;01mis\u001b[39;00m \u001b[38;5;129;01mnot\u001b[39;00m \u001b[38;5;28;01mNone\u001b[39;00m:\n\u001b[1;32m    733\u001b[0m     timeout \u001b[38;5;241m=\u001b[39m common\u001b[38;5;241m.\u001b[39mvalidate_timeout_or_none_or_zero(\n\u001b[1;32m    734\u001b[0m         keyword_opts\u001b[38;5;241m.\u001b[39mcased_key(\u001b[38;5;124m\"\u001b[39m\u001b[38;5;124mconnecttimeoutms\u001b[39m\u001b[38;5;124m\"\u001b[39m), timeout\n\u001b[1;32m    735\u001b[0m     )\n\u001b[0;32m--> 736\u001b[0m res \u001b[38;5;241m=\u001b[39m \u001b[43muri_parser\u001b[49m\u001b[38;5;241;43m.\u001b[39;49m\u001b[43mparse_uri\u001b[49m\u001b[43m(\u001b[49m\n\u001b[1;32m    737\u001b[0m \u001b[43m    \u001b[49m\u001b[43mentity\u001b[49m\u001b[43m,\u001b[49m\n\u001b[1;32m    738\u001b[0m \u001b[43m    \u001b[49m\u001b[43mport\u001b[49m\u001b[43m,\u001b[49m\n\u001b[1;32m    739\u001b[0m \u001b[43m    \u001b[49m\u001b[43mvalidate\u001b[49m\u001b[38;5;241;43m=\u001b[39;49m\u001b[38;5;28;43;01mTrue\u001b[39;49;00m\u001b[43m,\u001b[49m\n\u001b[1;32m    740\u001b[0m \u001b[43m    \u001b[49m\u001b[43mwarn\u001b[49m\u001b[38;5;241;43m=\u001b[39;49m\u001b[38;5;28;43;01mTrue\u001b[39;49;00m\u001b[43m,\u001b[49m\n\u001b[1;32m    741\u001b[0m \u001b[43m    \u001b[49m\u001b[43mnormalize\u001b[49m\u001b[38;5;241;43m=\u001b[39;49m\u001b[38;5;28;43;01mFalse\u001b[39;49;00m\u001b[43m,\u001b[49m\n\u001b[1;32m    742\u001b[0m \u001b[43m    \u001b[49m\u001b[43mconnect_timeout\u001b[49m\u001b[38;5;241;43m=\u001b[39;49m\u001b[43mtimeout\u001b[49m\u001b[43m,\u001b[49m\n\u001b[1;32m    743\u001b[0m \u001b[43m    \u001b[49m\u001b[43msrv_service_name\u001b[49m\u001b[38;5;241;43m=\u001b[39;49m\u001b[43msrv_service_name\u001b[49m\u001b[43m,\u001b[49m\n\u001b[1;32m    744\u001b[0m \u001b[43m    \u001b[49m\u001b[43msrv_max_hosts\u001b[49m\u001b[38;5;241;43m=\u001b[39;49m\u001b[43msrv_max_hosts\u001b[49m\u001b[43m,\u001b[49m\n\u001b[1;32m    745\u001b[0m \u001b[43m\u001b[49m\u001b[43m)\u001b[49m\n\u001b[1;32m    746\u001b[0m seeds\u001b[38;5;241m.\u001b[39mupdate(res[\u001b[38;5;124m\"\u001b[39m\u001b[38;5;124mnodelist\u001b[39m\u001b[38;5;124m\"\u001b[39m])\n\u001b[1;32m    747\u001b[0m username \u001b[38;5;241m=\u001b[39m res[\u001b[38;5;124m\"\u001b[39m\u001b[38;5;124musername\u001b[39m\u001b[38;5;124m\"\u001b[39m] \u001b[38;5;129;01mor\u001b[39;00m username\n",
      "File \u001b[0;32m~/.pyenv/versions/data_analysis/lib/python3.11/site-packages/pymongo/uri_parser.py:542\u001b[0m, in \u001b[0;36mparse_uri\u001b[0;34m(uri, default_port, validate, warn, normalize, connect_timeout, srv_service_name, srv_max_hosts)\u001b[0m\n\u001b[1;32m    540\u001b[0m connect_timeout \u001b[38;5;241m=\u001b[39m connect_timeout \u001b[38;5;129;01mor\u001b[39;00m options\u001b[38;5;241m.\u001b[39mget(\u001b[38;5;124m\"\u001b[39m\u001b[38;5;124mconnectTimeoutMS\u001b[39m\u001b[38;5;124m\"\u001b[39m)\n\u001b[1;32m    541\u001b[0m dns_resolver \u001b[38;5;241m=\u001b[39m _SrvResolver(fqdn, connect_timeout, srv_service_name, srv_max_hosts)\n\u001b[0;32m--> 542\u001b[0m nodes \u001b[38;5;241m=\u001b[39m \u001b[43mdns_resolver\u001b[49m\u001b[38;5;241;43m.\u001b[39;49m\u001b[43mget_hosts\u001b[49m\u001b[43m(\u001b[49m\u001b[43m)\u001b[49m\n\u001b[1;32m    543\u001b[0m dns_options \u001b[38;5;241m=\u001b[39m dns_resolver\u001b[38;5;241m.\u001b[39mget_options()\n\u001b[1;32m    544\u001b[0m \u001b[38;5;28;01mif\u001b[39;00m dns_options:\n",
      "File \u001b[0;32m~/.pyenv/versions/data_analysis/lib/python3.11/site-packages/pymongo/srv_resolver.py:121\u001b[0m, in \u001b[0;36m_SrvResolver.get_hosts\u001b[0;34m(self)\u001b[0m\n\u001b[1;32m    120\u001b[0m \u001b[38;5;28;01mdef\u001b[39;00m \u001b[38;5;21mget_hosts\u001b[39m(\u001b[38;5;28mself\u001b[39m):\n\u001b[0;32m--> 121\u001b[0m     _, nodes \u001b[38;5;241m=\u001b[39m \u001b[38;5;28;43mself\u001b[39;49m\u001b[38;5;241;43m.\u001b[39;49m\u001b[43m_get_srv_response_and_hosts\u001b[49m\u001b[43m(\u001b[49m\u001b[38;5;28;43;01mTrue\u001b[39;49;00m\u001b[43m)\u001b[49m\n\u001b[1;32m    122\u001b[0m     \u001b[38;5;28;01mreturn\u001b[39;00m nodes\n",
      "File \u001b[0;32m~/.pyenv/versions/data_analysis/lib/python3.11/site-packages/pymongo/srv_resolver.py:101\u001b[0m, in \u001b[0;36m_SrvResolver._get_srv_response_and_hosts\u001b[0;34m(self, encapsulate_errors)\u001b[0m\n\u001b[1;32m    100\u001b[0m \u001b[38;5;28;01mdef\u001b[39;00m \u001b[38;5;21m_get_srv_response_and_hosts\u001b[39m(\u001b[38;5;28mself\u001b[39m, encapsulate_errors):\n\u001b[0;32m--> 101\u001b[0m     results \u001b[38;5;241m=\u001b[39m \u001b[38;5;28;43mself\u001b[39;49m\u001b[38;5;241;43m.\u001b[39;49m\u001b[43m_resolve_uri\u001b[49m\u001b[43m(\u001b[49m\u001b[43mencapsulate_errors\u001b[49m\u001b[43m)\u001b[49m\n\u001b[1;32m    103\u001b[0m     \u001b[38;5;66;03m# Construct address tuples\u001b[39;00m\n\u001b[1;32m    104\u001b[0m     nodes \u001b[38;5;241m=\u001b[39m [\n\u001b[1;32m    105\u001b[0m         (maybe_decode(res\u001b[38;5;241m.\u001b[39mtarget\u001b[38;5;241m.\u001b[39mto_text(omit_final_dot\u001b[38;5;241m=\u001b[39m\u001b[38;5;28;01mTrue\u001b[39;00m)), res\u001b[38;5;241m.\u001b[39mport) \u001b[38;5;28;01mfor\u001b[39;00m res \u001b[38;5;129;01min\u001b[39;00m results\n\u001b[1;32m    106\u001b[0m     ]\n",
      "File \u001b[0;32m~/.pyenv/versions/data_analysis/lib/python3.11/site-packages/pymongo/srv_resolver.py:97\u001b[0m, in \u001b[0;36m_SrvResolver._resolve_uri\u001b[0;34m(self, encapsulate_errors)\u001b[0m\n\u001b[1;32m     95\u001b[0m         \u001b[38;5;28;01mraise\u001b[39;00m\n\u001b[1;32m     96\u001b[0m     \u001b[38;5;66;03m# Else, raise all errors as ConfigurationError.\u001b[39;00m\n\u001b[0;32m---> 97\u001b[0m     \u001b[38;5;28;01mraise\u001b[39;00m ConfigurationError(\u001b[38;5;28mstr\u001b[39m(exc))\n\u001b[1;32m     98\u001b[0m \u001b[38;5;28;01mreturn\u001b[39;00m results\n",
      "\u001b[0;31mConfigurationError\u001b[0m: The resolution lifetime expired after 21.133 seconds: Server Do53:192.168.8.1@53 answered The DNS operation timed out.; Server Do53:192.168.8.1@53 answered The DNS operation timed out.; Server Do53:192.168.8.1@53 answered The DNS operation timed out.; Server Do53:192.168.8.1@53 answered The DNS operation timed out.; Server Do53:192.168.8.1@53 answered The DNS operation timed out.; Server Do53:192.168.8.1@53 answered The DNS operation timed out.; Server Do53:192.168.8.1@53 answered The DNS operation timed out."
     ]
    }
   ],
   "source": [
    "conn = db.connect_mongo_db(\"senate-publication\")"
   ]
  },
  {
   "cell_type": "code",
   "execution_count": 4,
   "id": "52790cee",
   "metadata": {},
   "outputs": [
    {
     "data": {
      "text/plain": [
       "['initiatives', 'publication', 'propositions', 'unique_publications']"
      ]
     },
     "execution_count": 4,
     "metadata": {},
     "output_type": "execute_result"
    }
   ],
   "source": [
    "conn.list_collection_names()"
   ]
  },
  {
   "cell_type": "code",
   "execution_count": 5,
   "id": "ba2a1f6c",
   "metadata": {},
   "outputs": [],
   "source": [
    "collection = conn.get_collection(\"unique_publications\")"
   ]
  },
  {
   "cell_type": "code",
   "execution_count": 6,
   "id": "f4806d79",
   "metadata": {},
   "outputs": [
    {
     "data": {
      "text/plain": [
       "dict_keys(['_id', 'type', 'original_summary', 'related_publications', 'involved_authors', 'involved_parties', 'related_dates', 'processed_text', 'topics_distribution'])"
      ]
     },
     "execution_count": 6,
     "metadata": {},
     "output_type": "execute_result"
    }
   ],
   "source": [
    "collection_columns = collection.find_one().keys()\n",
    "collection_columns"
   ]
  },
  {
   "cell_type": "markdown",
   "id": "3b951936",
   "metadata": {},
   "source": [
    "# Limpiar datos"
   ]
  },
  {
   "cell_type": "markdown",
   "id": "5a072dd3",
   "metadata": {},
   "source": [
    "## Funciones Generales"
   ]
  },
  {
   "cell_type": "code",
   "execution_count": 52,
   "id": "27cac251",
   "metadata": {},
   "outputs": [],
   "source": [
    "select_columns = [\n",
    "    \"_id\",\n",
    "    \"original_summary\",\n",
    "    \"topics_distribution\"\n",
    "]"
   ]
  },
  {
   "cell_type": "code",
   "execution_count": 53,
   "id": "88a851fc",
   "metadata": {},
   "outputs": [],
   "source": [
    "def clean_datos_inegi(datos_inegi):\n",
    "    datos_inegi[\"estado\"] = datos_inegi.estado.apply(str.lower)\n",
    "    datos_inegi[\"estado\"] = datos_inegi.estado.apply(unidecode)\n",
    "\n",
    "    datos_inegi[\"municipio\"] = datos_inegi.municipio.apply(str.lower)\n",
    "    datos_inegi[\"municipio\"] = datos_inegi.municipio.apply(unidecode)\n",
    "\n",
    "    datos_inegi.loc[datos_inegi.estado == \"mexico\", \"estado\"] = \"estado de mexico\"\n",
    "\n",
    "    return datos_inegi"
   ]
  },
  {
   "cell_type": "code",
   "execution_count": 54,
   "id": "04bc79e4",
   "metadata": {},
   "outputs": [
    {
     "data": {
      "text/plain": [
       "(2473, 3)"
      ]
     },
     "execution_count": 54,
     "metadata": {},
     "output_type": "execute_result"
    }
   ],
   "source": [
    "datos_inegi_1 = pd.read_csv(\"./data/catalogo_inegi_clean.csv\")\n",
    "datos_inegi_1 = datos_inegi_1[[\"NOM_ENT\", \"NOM_MUN\"]].drop_duplicates().rename(\n",
    "    columns={\"NOM_ENT\": \"estado\", \"NOM_MUN\": \"municipio\"}\n",
    ")\n",
    "\n",
    "datos_inegi_1 = clean_datos_inegi(datos_inegi_1)\n",
    "datos_inegi_1[\"exists_inegi_1\"] = True\n",
    "\n",
    "datos_inegi_1.shape"
   ]
  },
  {
   "cell_type": "code",
   "execution_count": 55,
   "id": "b4632b67",
   "metadata": {},
   "outputs": [
    {
     "data": {
      "text/plain": [
       "(2464, 3)"
      ]
     },
     "execution_count": 55,
     "metadata": {},
     "output_type": "execute_result"
    }
   ],
   "source": [
    "\n",
    "datos_inegi_2 = pd.read_csv(\"./data/catalogo_inegi_seccion_electoral.csv\")\n",
    "datos_inegi_2 = datos_inegi_2[[\"NOM_ENT\", \"NOM_MUN\"]].drop_duplicates().rename(\n",
    "    columns={\"NOM_ENT\": \"estado\", \"NOM_MUN\": \"municipio\"}\n",
    ")\n",
    "\n",
    "datos_inegi_2 = clean_datos_inegi(datos_inegi_2)\n",
    "\n",
    "datos_inegi_2[\"exists_inegi_2\"] = True\n",
    "\n",
    "datos_inegi_2.shape"
   ]
  },
  {
   "cell_type": "code",
   "execution_count": 56,
   "id": "def92bdf",
   "metadata": {},
   "outputs": [
    {
     "data": {
      "text/plain": [
       "(2473, 4)"
      ]
     },
     "execution_count": 56,
     "metadata": {},
     "output_type": "execute_result"
    }
   ],
   "source": [
    "datos_inegi = datos_inegi_1.merge(\n",
    "    datos_inegi_2,\n",
    "    on=[\"municipio\", \"estado\"],\n",
    "    how=\"outer\"\n",
    ")\n",
    "datos_inegi.shape"
   ]
  },
  {
   "cell_type": "code",
   "execution_count": 57,
   "id": "9144cd2d",
   "metadata": {},
   "outputs": [
    {
     "data": {
      "text/plain": [
       "estado            0\n",
       "municipio         0\n",
       "exists_inegi_1    0\n",
       "exists_inegi_2    9\n",
       "dtype: int64"
      ]
     },
     "execution_count": 57,
     "metadata": {},
     "output_type": "execute_result"
    }
   ],
   "source": [
    "datos_inegi.isna().sum()"
   ]
  },
  {
   "cell_type": "code",
   "execution_count": 346,
   "id": "52611ba2",
   "metadata": {},
   "outputs": [],
   "source": [
    "estados = datos_inegi.estado.unique().tolist()\n",
    "\n",
    "# add extra estate\n",
    "estados.append(\"distrito federal\")\n",
    "\n",
    "# first add the unique named municipios\n",
    "municipios = datos_inegi.loc[~datos_inegi.municipio.isin(estados)].municipio.unique().tolist()\n",
    "\n",
    "# add different spellings\n",
    "municipios.append(\"praxedis g. de guerrero\")\n",
    "municipios.append(\"coyame de sotol\")\n",
    "\n",
    "# add municipios that have the same name as a state\n",
    "municipios.extend(datos_inegi.loc[datos_inegi.municipio.isin(estados)].municipio.unique())\n",
    "\n",
    "inegi_replacements = {\n",
    "    \"estate\": {\n",
    "        \"names_list\": estados,\n",
    "        \"base_regex\": \"[ ,](estados? de )?{name_value}[ ,.]\",\n",
    "        \"replacement\": \" [ESTADO] \"\n",
    "    },\n",
    "    \n",
    "    \"city\": {\n",
    "        \"names_list\": municipios,\n",
    "        \"base_regex\": \"[ ,](municipios? de )?{name_value}[ ,.]\",\n",
    "        \"replacement\": \" [MUNICIPIO] \"\n",
    "    }\n",
    "}"
   ]
  },
  {
   "cell_type": "code",
   "execution_count": 59,
   "id": "de5c212e",
   "metadata": {},
   "outputs": [],
   "source": [
    "def explode_topics_data(publications_df: pd.DataFrame) -> pd.DataFrame:\n",
    "    # explode each model topics into it's own row\n",
    "    topics_df = publications_df.explode(\"topics_distribution\").reset_index(\n",
    "        drop = True\n",
    "    )\n",
    "    \n",
    "    # normalize model's topic info into it's own column\n",
    "    topics_df = topics_df.join(\n",
    "        pd.json_normalize(topics_df.topics_distribution)\n",
    "    ).drop(\n",
    "        columns = [\"topics_distribution\"]\n",
    "    )\n",
    "    \n",
    "    # explode each topic into it's own row\n",
    "    topics_df = topics_df.explode(\"topics\").reset_index(drop = True)\n",
    "    \n",
    "    # explode each topic's info into columns\n",
    "    topics_df = topics_df.join(\n",
    "        pd.json_normalize(topics_df.topics)\n",
    "    ).drop(\n",
    "        columns = [\"topics\", \"model_id\"]\n",
    "    )\n",
    "    \n",
    "    # sort by topic's score\n",
    "    topics_df = topics_df.sort_values(by=\"score\", ascending=False).reset_index(drop=True)\n",
    "\n",
    "    return topics_df"
   ]
  },
  {
   "cell_type": "markdown",
   "id": "dc6d8e08",
   "metadata": {},
   "source": [
    "## Limpiar iniciativas"
   ]
  },
  {
   "cell_type": "code",
   "execution_count": 19,
   "id": "f67fb7e2",
   "metadata": {},
   "outputs": [
    {
     "data": {
      "text/plain": [
       "(5686, 3)"
      ]
     },
     "execution_count": 19,
     "metadata": {},
     "output_type": "execute_result"
    }
   ],
   "source": [
    "initiatives_cursor = conn.unique_publications.find({\"type\": \"iniciativa\"}, select_columns)\n",
    "raw_initiatives = pd.DataFrame(initiatives_cursor)\n",
    "raw_initiatives.shape"
   ]
  },
  {
   "cell_type": "code",
   "execution_count": 20,
   "id": "564f0cbd",
   "metadata": {},
   "outputs": [
    {
     "data": {
      "text/html": [
       "<div>\n",
       "<style scoped>\n",
       "    .dataframe tbody tr th:only-of-type {\n",
       "        vertical-align: middle;\n",
       "    }\n",
       "\n",
       "    .dataframe tbody tr th {\n",
       "        vertical-align: top;\n",
       "    }\n",
       "\n",
       "    .dataframe thead th {\n",
       "        text-align: right;\n",
       "    }\n",
       "</style>\n",
       "<table border=\"1\" class=\"dataframe\">\n",
       "  <thead>\n",
       "    <tr style=\"text-align: right;\">\n",
       "      <th></th>\n",
       "      <th>_id</th>\n",
       "      <th>original_summary</th>\n",
       "      <th>topics_distribution</th>\n",
       "    </tr>\n",
       "  </thead>\n",
       "  <tbody>\n",
       "    <tr>\n",
       "      <th>0</th>\n",
       "      <td>00024466b3c4102e89e26260242f86f8</td>\n",
       "      <td>Propone establecer que los servicios de salud ...</td>\n",
       "      <td>[{'model_id': 'normalized_text_12', 'topics': ...</td>\n",
       "    </tr>\n",
       "    <tr>\n",
       "      <th>1</th>\n",
       "      <td>00069181c1c5e63e833a2dc3d6798e9a</td>\n",
       "      <td>Propone establecer que para la obtención de la...</td>\n",
       "      <td>[{'model_id': 'normalized_text_12', 'topics': ...</td>\n",
       "    </tr>\n",
       "  </tbody>\n",
       "</table>\n",
       "</div>"
      ],
      "text/plain": [
       "                                _id  \\\n",
       "0  00024466b3c4102e89e26260242f86f8   \n",
       "1  00069181c1c5e63e833a2dc3d6798e9a   \n",
       "\n",
       "                                    original_summary  \\\n",
       "0  Propone establecer que los servicios de salud ...   \n",
       "1  Propone establecer que para la obtención de la...   \n",
       "\n",
       "                                 topics_distribution  \n",
       "0  [{'model_id': 'normalized_text_12', 'topics': ...  \n",
       "1  [{'model_id': 'normalized_text_12', 'topics': ...  "
      ]
     },
     "execution_count": 20,
     "metadata": {},
     "output_type": "execute_result"
    }
   ],
   "source": [
    "raw_initiatives.head(2)"
   ]
  },
  {
   "cell_type": "code",
   "execution_count": 21,
   "id": "3ff16c28",
   "metadata": {},
   "outputs": [
    {
     "data": {
      "text/html": [
       "<div>\n",
       "<style scoped>\n",
       "    .dataframe tbody tr th:only-of-type {\n",
       "        vertical-align: middle;\n",
       "    }\n",
       "\n",
       "    .dataframe tbody tr th {\n",
       "        vertical-align: top;\n",
       "    }\n",
       "\n",
       "    .dataframe thead th {\n",
       "        text-align: right;\n",
       "    }\n",
       "</style>\n",
       "<table border=\"1\" class=\"dataframe\">\n",
       "  <thead>\n",
       "    <tr style=\"text-align: right;\">\n",
       "      <th></th>\n",
       "      <th>_id</th>\n",
       "      <th>original_summary</th>\n",
       "      <th>topic</th>\n",
       "      <th>score</th>\n",
       "    </tr>\n",
       "  </thead>\n",
       "  <tbody>\n",
       "    <tr>\n",
       "      <th>0</th>\n",
       "      <td>8e3c8b7a660089d3ab0a6fc9c49d7e5e</td>\n",
       "      <td>Propone establecer que serán sancionados con u...</td>\n",
       "      <td>8</td>\n",
       "      <td>0.98868</td>\n",
       "    </tr>\n",
       "    <tr>\n",
       "      <th>1</th>\n",
       "      <td>a32460227a52f000199646c6f7cba2e7</td>\n",
       "      <td>Propone establecer que los comerciantes estén ...</td>\n",
       "      <td>0</td>\n",
       "      <td>0.98839</td>\n",
       "    </tr>\n",
       "  </tbody>\n",
       "</table>\n",
       "</div>"
      ],
      "text/plain": [
       "                                _id  \\\n",
       "0  8e3c8b7a660089d3ab0a6fc9c49d7e5e   \n",
       "1  a32460227a52f000199646c6f7cba2e7   \n",
       "\n",
       "                                    original_summary  topic    score  \n",
       "0  Propone establecer que serán sancionados con u...      8  0.98868  \n",
       "1  Propone establecer que los comerciantes estén ...      0  0.98839  "
      ]
     },
     "execution_count": 21,
     "metadata": {},
     "output_type": "execute_result"
    }
   ],
   "source": [
    "initiatives_df = explode_topics_data(raw_initiatives)\n",
    "initiatives_df.head(2)"
   ]
  },
  {
   "cell_type": "code",
   "execution_count": 22,
   "id": "c9ff059c",
   "metadata": {},
   "outputs": [],
   "source": [
    "# keep representative topics\n",
    "initiatives_df = initiatives_df.loc[initiatives_df.score >= 0.5]"
   ]
  },
  {
   "cell_type": "markdown",
   "id": "773c7c28",
   "metadata": {},
   "source": [
    "### Exploración por topics"
   ]
  },
  {
   "cell_type": "code",
   "execution_count": 23,
   "id": "5fb5b10b",
   "metadata": {},
   "outputs": [
    {
     "data": {
      "text/html": [
       "<div>\n",
       "<style scoped>\n",
       "    .dataframe tbody tr th:only-of-type {\n",
       "        vertical-align: middle;\n",
       "    }\n",
       "\n",
       "    .dataframe tbody tr th {\n",
       "        vertical-align: top;\n",
       "    }\n",
       "\n",
       "    .dataframe thead th {\n",
       "        text-align: right;\n",
       "    }\n",
       "</style>\n",
       "<table border=\"1\" class=\"dataframe\">\n",
       "  <thead>\n",
       "    <tr style=\"text-align: right;\">\n",
       "      <th></th>\n",
       "      <th>topic</th>\n",
       "      <th>_id</th>\n",
       "    </tr>\n",
       "  </thead>\n",
       "  <tbody>\n",
       "    <tr>\n",
       "      <th>0</th>\n",
       "      <td>0</td>\n",
       "      <td>663</td>\n",
       "    </tr>\n",
       "    <tr>\n",
       "      <th>4</th>\n",
       "      <td>4</td>\n",
       "      <td>446</td>\n",
       "    </tr>\n",
       "    <tr>\n",
       "      <th>8</th>\n",
       "      <td>8</td>\n",
       "      <td>351</td>\n",
       "    </tr>\n",
       "    <tr>\n",
       "      <th>10</th>\n",
       "      <td>10</td>\n",
       "      <td>259</td>\n",
       "    </tr>\n",
       "    <tr>\n",
       "      <th>6</th>\n",
       "      <td>6</td>\n",
       "      <td>229</td>\n",
       "    </tr>\n",
       "    <tr>\n",
       "      <th>1</th>\n",
       "      <td>1</td>\n",
       "      <td>204</td>\n",
       "    </tr>\n",
       "    <tr>\n",
       "      <th>7</th>\n",
       "      <td>7</td>\n",
       "      <td>136</td>\n",
       "    </tr>\n",
       "    <tr>\n",
       "      <th>3</th>\n",
       "      <td>3</td>\n",
       "      <td>108</td>\n",
       "    </tr>\n",
       "    <tr>\n",
       "      <th>5</th>\n",
       "      <td>5</td>\n",
       "      <td>69</td>\n",
       "    </tr>\n",
       "    <tr>\n",
       "      <th>11</th>\n",
       "      <td>11</td>\n",
       "      <td>14</td>\n",
       "    </tr>\n",
       "    <tr>\n",
       "      <th>2</th>\n",
       "      <td>2</td>\n",
       "      <td>9</td>\n",
       "    </tr>\n",
       "    <tr>\n",
       "      <th>9</th>\n",
       "      <td>9</td>\n",
       "      <td>9</td>\n",
       "    </tr>\n",
       "  </tbody>\n",
       "</table>\n",
       "</div>"
      ],
      "text/plain": [
       "    topic  _id\n",
       "0       0  663\n",
       "4       4  446\n",
       "8       8  351\n",
       "10     10  259\n",
       "6       6  229\n",
       "1       1  204\n",
       "7       7  136\n",
       "3       3  108\n",
       "5       5   69\n",
       "11     11   14\n",
       "2       2    9\n",
       "9       9    9"
      ]
     },
     "execution_count": 23,
     "metadata": {},
     "output_type": "execute_result"
    }
   ],
   "source": [
    "initiatives_df.groupby(\"topic\").agg({\n",
    "    \"_id\": \"count\"\n",
    "}).reset_index().sort_values(by=\"_id\", ascending=False)"
   ]
  },
  {
   "cell_type": "code",
   "execution_count": 222,
   "id": "51c6b1f5",
   "metadata": {},
   "outputs": [
    {
     "name": "stdout",
     "output_type": "stream",
     "text": [
      "(253fea0c2c8f5eb5ec081d11e76354db) – 0.9765\n",
      "---------------\n",
      "Propone que, para los municipios de Coyame del Sotol, Ojinaga y Manuel Benavides, del Estado de Chihuahua, acorde a sus correlativos a su franja fronteriza, se aplico el meridiano 90 grados al oeste de Greenwich y para el Estado de Baja California, así como para los municipios de Janos, Ascensión, Juárez, Praxedis G. Guerrero y Guadalupe, del Estado de Chihuahua, acorde a sus correlativos a su franja fronteriza, se aplica el meridiano 105 grados al oeste de Greenwich.\n",
      "======================================================================\n",
      "(0e3953d9b0882adb031d026c9f7bf731) – 0.8472\n",
      "---------------\n",
      "Propone que la Ciudad de México sea una entidad federativa libre y soberana.\n",
      "======================================================================\n",
      "(c1e483c621cb470de2e3585f1c886752) – 0.6835\n",
      "---------------\n",
      "Propone establecer que la Zona Pacífico también comprenderá los municipios de Janos, Ascensión, Juárez, Praxedis G. de Guerrero y Guadalupe del Estado de Chihuahua, lo que implicará que su horario se determine conforme al paralelo 105 en lugar de 90 grados al oeste de Greenwich. Para el horario estacional les aplicará el horario correspondiente al paralelo 90 al oeste de Greenwich. Adiciona los municipios de Coyame de Sotol, Ojinaga y Manuel Benavides al horario estacional correspondiente a los 75 grados al oeste de Greenwich.\n",
      "======================================================================\n",
      "(66be78b82a2755f480ba11d552b1e68e) – 0.6611\n",
      "---------------\n",
      "Propone aplicar al estado de Baja California Sur, el horario correspondiente a los 105 grados, en concordancia con los 105 grados de su reconocida ubicación.\n",
      "======================================================================\n",
      "(7171065d50b20f8e6a0f8e51a0e47fcc) – 0.5833\n",
      "---------------\n",
      "Propone modificar las referencias en la Ley a la Procuraduría General de la República por la Fiscalía General de la República.\n",
      "======================================================================\n",
      "(908e6262624d2988b9127e5c7bb4dc34) – 0.5429\n",
      "---------------\n",
      "Propone que los Estados, Municipios y la Ciudad de México, puedan presentar ante la Secretaría, proyectos de declaratoria de Zonas de Desarrollo Turístico Sustentable, estableciendo mecanismos de participación ciudadana para la elaboración de dichos proyectos, con perspectiva de género e interculturalidad.\n",
      "======================================================================\n",
      "(f3349a0eed06da9b36f0c96f3c58cc33) – 0.5172\n",
      "---------------\n",
      "Propone que el Senado de la República declare a la ciudad de Macuspana, Tabasco “Cuna del Petróleo en México” para fortalecer la derrama económica en dicha localidad.\n",
      "======================================================================\n",
      "(63c4ba3498a38b34317222958cfb7c0d) – 0.5108\n",
      "---------------\n",
      "Pretende establecer el Horario Estacional que se aplicaría en los Estados Unidos Mexicanos, para quedar como sigue: Los estados de Baja California Sur, Chihuahua y Nayarit sujetos al meridiano 105 grados por ubicación y 90 grados por horario estacional. Los estados de Sonora y Sinaloa sujetos al meridiano 105 grados por ubicación 105 grados por horario estacional.\n",
      "======================================================================\n",
      "(35fcf3d889360cb80f15749071e431c2) – 0.5061\n",
      "---------------\n",
      "Propone incluir una nueva comisión en la Cámara de Senadores, denominada “Pesca y Acuacultura”.\n",
      "======================================================================\n"
     ]
    }
   ],
   "source": [
    "topic = 2\n",
    "num_documents = 20\n",
    "\n",
    "filtered_df = initiatives_df.loc[initiatives_df.topic == topic]\n",
    "\n",
    "num_row = 0\n",
    "for _, row in filtered_df.iterrows(): \n",
    "    if num_row >= num_documents:\n",
    "        break\n",
    "    \n",
    "    print(f\"({row['_id']}) – {round(row['score'], 4)}\")\n",
    "    print(\"---\"*5)\n",
    "    print(row.original_summary)\n",
    "    print(\"=======\"*10)\n",
    "    \n",
    "    num_row += 1"
   ]
  },
  {
   "cell_type": "markdown",
   "id": "0ad8ecd9",
   "metadata": {},
   "source": [
    "### Replace common proper names"
   ]
  },
  {
   "cell_type": "code",
   "execution_count": 385,
   "id": "8a6dcd91",
   "metadata": {},
   "outputs": [
    {
     "data": {
      "text/plain": [
       "{'Propone establecer una soberanía',\n",
       " 'considerada por esta soberanía',\n",
       " 'contribución a la soberanía',\n",
       " 'división implica la soberanía',\n",
       " 'expeler el amparo soberanía',\n",
       " 'fortalecimiento de la soberanía',\n",
       " 'la autonomía y soberanía',\n",
       " 'la seguridad y soberanía'}"
      ]
     },
     "execution_count": 385,
     "metadata": {},
     "output_type": "execute_result"
    }
   ],
   "source": [
    "context_word = \"soberanía\"\n",
    "\n",
    "matches = initiatives_df.loc[\n",
    "    initiatives_df.original_summary.str.contains(context_word)\n",
    "].original_summary.apply(get_context, context_word=context_word, before_word=True)\n",
    "\n",
    "set().union(*matches)"
   ]
  },
  {
   "cell_type": "code",
   "execution_count": 484,
   "id": "c66a6641",
   "metadata": {},
   "outputs": [],
   "source": [
    "initiative_replacements = [\n",
    "    {\"replacement_regex\": \"(honorables? )?C[aá]maras? de Senador[ae]s( y Senador[ae]s)?\", \"replacement\": \"Camara_Senadores\"},\n",
    "    {\"replacement_regex\": \"(Comisión Permanente del |Cámaras del |Honorable )?Congreso de la Unión\", \"replacement\": \"Congreso_Union\"},\n",
    "    {\"replacement_regex\": \"Senado de la República\", \"replacement\": \"Senado_Republica\"},\n",
    "    {\"replacement_regex\": \"Secretaría de\", \"replacement\": \"\"},\n",
    "     {\"replacement_regex\": \"(esta|una) soberanía\", \"replacement\": \"[AUTORIDAD]\"},\n",
    "    {\"replacement_regex\": \"(honorables? )?C[aá]maras? de Diputad[ao]s( y Diputad[ao]s)?\", \"replacement\": \"Camara_Diputados\"},\n",
    "\n",
    "]"
   ]
  },
  {
   "cell_type": "code",
   "execution_count": 485,
   "id": "ce6ca63d",
   "metadata": {},
   "outputs": [],
   "source": [
    "initiatives_df[\"clean_summary\"] = initiatives_df.original_summary\n",
    "for replacement_data in initiative_replacements:\n",
    "    initiatives_df[\"clean_summary\"] = initiatives_df.clean_summary.apply(c.replace_string, **replacement_data)"
   ]
  },
  {
   "cell_type": "code",
   "execution_count": 486,
   "id": "23ed21e3",
   "metadata": {},
   "outputs": [
    {
     "data": {
      "text/plain": [
       "'Propone la inscripción de letras de oro en el Muro de Honor del Salón de sesiones de la Camara_Senadores la leyenda “A las sufragistas que nunca se rindieron ni abandonaron la lucha por la libertad”. En dicho reconocimiento se pretende visibilizará la lucha de las mujeres por la conquista de los derechos políticoelectorales.'"
      ]
     },
     "execution_count": 486,
     "metadata": {},
     "output_type": "execute_result"
    }
   ],
   "source": [
    "text = initiatives_df.loc[\n",
    "    initiatives_df.original_summary.str.contains(\"honorables Cámara de Senadores\")\n",
    "].clean_summary.iloc[0]\n",
    "text"
   ]
  },
  {
   "cell_type": "markdown",
   "id": "2e3d931f",
   "metadata": {},
   "source": [
    "### Replace state + city names"
   ]
  },
  {
   "cell_type": "code",
   "execution_count": 487,
   "id": "cda8eccc",
   "metadata": {},
   "outputs": [
    {
     "name": "stderr",
     "output_type": "stream",
     "text": [
      "100%|██████████| 2497/2497 [01:08<00:00, 36.43it/s] \n"
     ]
    }
   ],
   "source": [
    "clean_state_summaries = []\n",
    "processing_errors = []\n",
    "\n",
    "for i, original_text in tqdm(initiatives_df.clean_summary.items(), total=initiatives_df.shape[0]):\n",
    "    try:\n",
    "        clean_state_summaries.append(\n",
    "            c.replace_places_by_flag(original_text, inegi_replacements=inegi_replacements)\n",
    "        )\n",
    "    except Exception as ex:\n",
    "        # save error in list\n",
    "        clean_state_summaries.append(\"[ERROR]\")\n",
    "        processing_errors.append((i, original_text, str(ex)))\n",
    "\n",
    "# save summaries\n",
    "initiatives_df[\"clean_state_summary\"] = clean_state_summaries"
   ]
  },
  {
   "cell_type": "code",
   "execution_count": 488,
   "id": "d4d500cf",
   "metadata": {},
   "outputs": [
    {
     "data": {
      "text/plain": [
       "0"
      ]
     },
     "execution_count": 488,
     "metadata": {},
     "output_type": "execute_result"
    }
   ],
   "source": [
    "len(processing_errors)"
   ]
  },
  {
   "cell_type": "code",
   "execution_count": 477,
   "id": "a66509ad",
   "metadata": {},
   "outputs": [
    {
     "data": {
      "text/plain": [
       "(64, 7)"
      ]
     },
     "execution_count": 477,
     "metadata": {},
     "output_type": "execute_result"
    }
   ],
   "source": [
    "initiatives_df.loc[\n",
    "    (initiatives_df.clean_state_summary.str.contains(\"\\[MUNICIPIO\\]\"))\n",
    "    | (initiatives_df.clean_state_summary.str.contains(\"\\[ESTADO\\]\"))\n",
    "].shape"
   ]
  },
  {
   "cell_type": "code",
   "execution_count": 472,
   "id": "3f13fc20",
   "metadata": {},
   "outputs": [
    {
     "data": {
      "text/plain": [
       "(103, 7)"
      ]
     },
     "execution_count": 472,
     "metadata": {},
     "output_type": "execute_result"
    }
   ],
   "source": [
    "# 103 w/original approach\n",
    "# 8 w/new approach\n",
    "replaced_strings = initiatives_df.loc[\n",
    "    (initiatives_df.clean_state_summary.str.contains(\"\\[MUNICIPIO\\]\"))\n",
    "    | (initiatives_df.clean_state_summary.str.contains(\"\\[ESTADO\\]\"))\n",
    "]\n",
    "replaced_strings.shape"
   ]
  },
  {
   "cell_type": "code",
   "execution_count": 474,
   "id": "40b06122",
   "metadata": {},
   "outputs": [
    {
     "name": "stdout",
     "output_type": "stream",
     "text": [
      "Propone que, para los municipios de Coyame del Sotol, Ojinaga y Manuel Benavides, del Estado de Chihuahua, acorde a sus correlativos a su franja fronteriza, se aplico el meridiano 90 grados al oeste de Greenwich y para el Estado de Baja California, así como para los municipios de Janos, Ascensión, Juárez, Praxedis G. Guerrero y Guadalupe, del Estado de Chihuahua, acorde a sus correlativos a su franja fronteriza, se aplica el meridiano 105 grados al oeste de Greenwich.\n",
      "---\n",
      "Propone que, para los [MUNICIPIO]  [MUNICIPIO] y [MUNICIPIO]  del [ESTADO]  acorde a sus correlativos a su franja fronteriza, se aplico el meridiano 90 grados al oeste de Greenwich y para el [ESTADO]  así como para los [MUNICIPIO]  [MUNICIPIO]  [MUNICIPIO]  [MUNICIPIO] y [MUNICIPIO]  del [ESTADO]  acorde a sus correlativos a su franja fronteriza, se aplica el meridiano 105 grados al oeste de Greenwich.\n",
      "---\n",
      "Propone que, para los [MUNICIPIO]  [MUNICIPIO] y [MUNICIPIO]  del [ESTADO]  acorde a sus correlativos a su franja fronteriza, se aplico el meridiano 90 grados al oeste de Greenwich y para el [ESTADO]  así como para los [MUNICIPIO]  [MUNICIPIO]  [MUNICIPIO]  [MUNICIPIO] y [MUNICIPIO]  del [ESTADO]  acorde a sus correlativos a su franja fronteriza, se aplica el meridiano 105 grados al oeste de Greenwich.\n",
      "==================================================\n",
      "Propone que la Secretaría de Salud, a través de la Comisión Nacional de Salud Mental, elabore un programa nacional de prevención del suicidio y lo ejecute en coordinación con los gobiernos de las entidades federativas, los municipios y las alcaldías de la Ciudad de México.\n",
      "---\n",
      "Propone que la  Salud, a través de la Comisión Nacional de Salud Mental, elabore un programa nacional de prevención del suicidio y lo ejecute en coordinación con los gobiernos de las entidades federativas, los municipios y las alcaldías de la [ESTADO] \n",
      "---\n",
      "Propone que la  Salud, a través de la Comisión Nacional de Salud Mental, elabore un programa nacional de prevención del suicidio y lo ejecute en coordinación con los gobiernos de las entidades federativas, los municipios y las alcaldías de la [ESTADO] \n",
      "==================================================\n",
      "Propone facultar al Congreso de la Unión para poder establecer bases de coordinación entre la Federación, las entidades federativas, los Municipios y las alcaldías de la Ciudad de México, en el ámbito de sus respectivas competencias, coordinarán sus acciones en materia de protección civil y también el servicio público de bomberos.\n",
      "---\n",
      "Propone facultar al Congreso_Union para poder establecer bases de coordinación entre la Federación, las entidades federativas, los Municipios y las alcaldías de la [ESTADO]  en el ámbito de sus respectivas competencias, coordinarán sus acciones en materia de protección civil y también el servicio público de bomberos.\n",
      "---\n",
      "Propone facultar al Congreso_Union para poder establecer bases de coordinación entre la Federación, las entidades federativas, los Municipios y las alcaldías de la [ESTADO]  en el ámbito de sus respectivas competencias, coordinarán sus acciones en materia de protección civil y también el servicio público de bomberos.\n",
      "==================================================\n",
      "Propone la armonización legislativa en referencia a las denominaciones que hace referencia al Distrito Federal.\n",
      "---\n",
      "Propone la armonización legislativa en referencia a las denominaciones que hace referencia al [ESTADO] \n",
      "---\n",
      "Propone la armonización legislativa en referencia a las denominaciones que hace referencia al [ESTADO] \n",
      "==================================================\n",
      "Propone modificar todas las referencias de la ley al Distrito Federal por Ciudad de México.\n",
      "---\n",
      "Propone modificar todas las referencias de la ley al [ESTADO] por [ESTADO] \n",
      "---\n",
      "Propone modificar todas las referencias de la ley al [ESTADO] por [ESTADO] \n",
      "==================================================\n",
      "Propone que la Ciudad de México sea una entidad federativa libre y soberana.\n",
      "---\n",
      "Propone que la [ESTADO] sea una entidad federativa libre y soberana.\n",
      "---\n",
      "Propone que la [ESTADO] sea una entidad federativa libre y soberana.\n",
      "==================================================\n",
      "Propone crear una tipología para las distintas localidades del país, a fin de clasificar a los municipios y a las demarcaciones territoriales de la Ciudad de México.\n",
      "---\n",
      "Propone crear una tipología para las distintas localidades del país, a fin de clasificar a los municipios y a las demarcaciones territoriales de la [ESTADO] \n",
      "---\n",
      "Propone crear una tipología para las distintas localidades del país, a fin de clasificar a los municipios y a las demarcaciones territoriales de la [ESTADO] \n",
      "==================================================\n",
      "Propone establecer que para la elección de Presidente de la República, Gobernadores de los Estados y Jefatura de Gobierno de la Ciudad de México la persona que resulte electa deberá haber obtenido la mayoría absoluta de los votos válidamente emitidos. En caso de no obtenerse esta votación en una primera jornada electoral, se realizará una segunda en la que participarán los dos candidatos que hayan obtenido el mayor número de votos en la primera vuelta y será electo quien obtenga la mitad más uno de los votos válidamente emitidos. La segunda vuelta se celebrará el sexto domingo posterior a la primera votación.\n",
      "---\n",
      "Propone establecer que para la elección de Presidente de la República, Gobernadores de los Estados y Jefatura de Gobierno de la [ESTADO] la persona que resulte electa deberá haber obtenido la mayoría absoluta de los votos válidamente emitidos. En caso de no obtenerse esta votación en una primera jornada electoral, se realizará una segunda en la que participarán los dos candidatos que hayan obtenido el mayor número de votos en la primera vuelta y será electo quien obtenga la mitad más uno de los votos válidamente emitidos. La segunda vuelta se celebrará el sexto domingo posterior a la primera votación.\n",
      "---\n",
      "Propone establecer que para la elección de Presidente de la República, Gobernadores de los Estados y Jefatura de Gobierno de la [ESTADO] la persona que resulte electa deberá haber obtenido la mayoría absoluta de los votos válidamente emitidos. En caso de no obtenerse esta votación en una primera jornada electoral, se realizará una segunda en la que participarán los dos candidatos que hayan obtenido el mayor número de votos en la primera vuelta y será electo quien obtenga la mitad más uno de los votos válidamente emitidos. La segunda vuelta se celebrará el sexto domingo posterior a la primera votación.\n",
      "==================================================\n",
      "Propone actualizar el ordenamiento legal vigentes en virtud para cambiar la denominación de Distrito Federal a Ciudad de México.\n",
      "---\n",
      "Propone actualizar el ordenamiento legal vigentes en virtud para cambiar la denominación de [ESTADO] a [ESTADO] \n",
      "---\n",
      "Propone actualizar el ordenamiento legal vigentes en virtud para cambiar la denominación de [ESTADO] a [ESTADO] \n",
      "==================================================\n",
      "Propone reformar el ordenamiento para dejar la mención de Distrito Federal y dar paso a la denominación de Ciudad de México.\n",
      "---\n",
      "Propone reformar el ordenamiento para dejar la mención de [ESTADO] y dar paso a la denominación de [ESTADO] \n",
      "---\n",
      "Propone reformar el ordenamiento para dejar la mención de [ESTADO] y dar paso a la denominación de [ESTADO] \n",
      "==================================================\n",
      "Propone establecer que los partidos políticos deberán garantizar el principio de paridad de género para los candidatos a gobernaturas, senadurías, diputaciones federales y locales, así como en los cargos de ayuntamientos y alcaldías de la Ciudad de México.\n",
      "---\n",
      "Propone establecer que los partidos políticos deberán garantizar el principio de paridad de género para los candidatos a gobernaturas, senadurías, diputaciones federales y locales, así como en los cargos de ayuntamientos y alcaldías de la [ESTADO] \n",
      "---\n",
      "Propone establecer que los partidos políticos deberán garantizar el principio de paridad de género para los candidatos a gobernaturas, senadurías, diputaciones federales y locales, así como en los cargos de ayuntamientos y alcaldías de la [ESTADO] \n",
      "==================================================\n",
      "Propone que se inscriba en el Muro de Honor del Senado de la República la leyenda “La Resistencia Heroica de Puebla” en conmemoración de la Segunda Batalla de Puebla y de todos sus protagonistas por su servicio a la Patria.\n",
      "---\n",
      "Propone que se inscriba en el Muro de Honor del Senado_Republica la leyenda “La Resistencia Heroica de Puebla” en conmemoración de la Segunda Batalla de [ESTADO] y de todos sus protagonistas por su servicio a la Patria.\n",
      "---\n",
      "Propone que se inscriba en el Muro de Honor del Senado_Republica la leyenda “La Resistencia Heroica de Puebla” en conmemoración de la Segunda Batalla de Puebla y de todos sus protagonistas por su servicio a la Patria.\n",
      "==================================================\n",
      "Propone reformar en virtud de la reforma política relativa a la Ciudad de México de 2016; para armonizarlos y modificar las referencias al Distrito Federal por Ciudad de México.\n",
      "---\n",
      "Propone reformar en virtud de la reforma política relativa a la [ESTADO] de 2016; para armonizarlos y modificar las referencias al [ESTADO] por [ESTADO] \n",
      "---\n",
      "Propone reformar en virtud de la reforma política relativa a la [ESTADO] de 2016; para armonizarlos y modificar las referencias al [ESTADO] por [ESTADO] \n",
      "==================================================\n",
      "Propone izar la bandera a toda hasta el día 6 de diciembre de cada año en conmemoración del nacimiento de Elvia Carrillo Puerto.\n",
      "---\n",
      "Propone izar la bandera a toda hasta el día 6 de diciembre de cada año en conmemoración del nacimiento de Elvia [MUNICIPIO] \n",
      "---\n",
      "Propone izar la bandera a toda hasta el día 6 de diciembre de cada año en conmemoración del nacimiento de Elvia Carrillo Puerto.\n",
      "==================================================\n",
      "Propone determinar que se celebrarán sesiones solemnes para otorgar el reconocimiento “Doctor Jorge Bustamante Fernández”\n",
      "---\n",
      "Propone determinar que se celebrarán sesiones solemnes para otorgar el reconocimiento “Doctor Jorge [MUNICIPIO] Fernández”\n",
      "---\n",
      "Propone determinar que se celebrarán sesiones solemnes para otorgar el reconocimiento “Doctor Jorge Bustamante Fernández”\n",
      "==================================================\n",
      "Propone la armonización normativa, en virtud de la reforma política de la Ciudad de México.\n",
      "---\n",
      "Propone la armonización normativa, en virtud de la reforma política de la [ESTADO] \n",
      "---\n",
      "Propone la armonización normativa, en virtud de la reforma política de la [ESTADO] \n",
      "==================================================\n",
      "Propone reformar el ordenamiento legal en virtud de la reforma política de la Ciudad de México.\n",
      "---\n",
      "Propone reformar el ordenamiento legal en virtud de la reforma política de la [ESTADO] \n",
      "---\n",
      "Propone reformar el ordenamiento legal en virtud de la reforma política de la [ESTADO] \n",
      "==================================================\n",
      "Propone actualizar el catálogo de delitos con los que se realizan en contra de los funcionarios de la Federación mencionados en la Ley Federal del Responsabilidades de los Servidores Públicos y la Ley General de Responsabilidades Administrativas con motivo de que se menciona a la extinta Ley de Responsabilidades de los funcionarios y Empleados de la Federación, del Distrito Federal y de los Altos Funcionarios de los Estados.\n",
      "---\n",
      "Propone actualizar el catálogo de delitos con los que se realizan en contra de los funcionarios de la Federación mencionados en la Ley Federal del Responsabilidades de los Servidores Públicos y la Ley General de Responsabilidades Administrativas con motivo de que se menciona a la extinta Ley de Responsabilidades de los funcionarios y Empleados de la Federación, del [ESTADO] y de los Altos Funcionarios de los Estados.\n",
      "---\n",
      "Propone actualizar el catálogo de delitos con los que se realizan en contra de los funcionarios de la Federación mencionados en la Ley Federal del Responsabilidades de los Servidores Públicos y la Ley General de Responsabilidades Administrativas con motivo de que se menciona a la extinta Ley de Responsabilidades de los funcionarios y Empleados de la Federación, del [ESTADO] y de los Altos Funcionarios de los Estados.\n",
      "==================================================\n",
      "Propone armonizar la Ley de Seguridad Nacional con las modificaciones a la Ley de la Administración Pública Federal, al incorporar al Centro Nacional de Inteligencia, el cual se define como un órgano administrativo desconcentrado de la Secretaría de Seguridad y Protección Ciudadana, con autonomía técnica, operativa y de gasto, adscrito directamente al Titular de dicha Secretaría. Incorpora al Secretario de Seguridad y Protección Ciudadana, el Secretario de Gobernación, el Secretario de la Defensa Nacional, el Secretario de Marina y el Director General del Centro Nacional de Inteligencia, como integrantes del Consejo de Seguridad Nacional.\n",
      "---\n",
      "Propone armonizar la Ley de Seguridad Nacional con las modificaciones a la Ley de la Administración Pública Federal, al incorporar al [MUNICIPIO] Nacional de Inteligencia, el cual se define como un órgano administrativo desconcentrado de la  Seguridad y Protección Ciudadana, con autonomía técnica, operativa y de gasto, adscrito directamente al Titular de dicha Secretaría. Incorpora al Secretario de Seguridad y Protección Ciudadana, el Secretario de Gobernación, el Secretario de la Defensa Nacional, el Secretario de Marina y el Director General del [MUNICIPIO] Nacional de Inteligencia, como integrantes del Consejo de Seguridad Nacional.\n",
      "---\n",
      "Propone armonizar la Ley de Seguridad Nacional con las modificaciones a la Ley de la Administración Pública Federal, al incorporar al Centro Nacional de Inteligencia, el cual se define como un órgano administrativo desconcentrado de la  Seguridad y Protección Ciudadana, con autonomía técnica, operativa y de gasto, adscrito directamente al Titular de dicha Secretaría. Incorpora al Secretario de Seguridad y Protección Ciudadana, el Secretario de Gobernación, el Secretario de la Defensa Nacional, el Secretario de Marina y el Director General del Centro Nacional de Inteligencia, como integrantes del Consejo de Seguridad Nacional.\n",
      "==================================================\n",
      "Propone que se inscriba con letras doradas en el Muro de Honor del Senado de la República la siguiente leyenda: “General Emiliano Zapata Salazar”. Toda vez que este 2023, se cumplen 104 años de la muerte de “El Caudillo del Sur”.\n",
      "---\n",
      "Propone que se inscriba con letras doradas en el Muro de Honor del Senado_Republica la siguiente leyenda: “General [MUNICIPIO] Salazar”. Toda vez que este 2023, se cumplen 104 años de la muerte de “El Caudillo del Sur”.\n",
      "---\n",
      "Propone que se inscriba con letras doradas en el Muro de Honor del Senado_Republica la siguiente leyenda: “General Emiliano Zapata Salazar”. Toda vez que este 2023, se cumplen 104 años de la muerte de “El Caudillo del Sur”.\n",
      "==================================================\n",
      "Propone armonizar los artículos 26 y 73 de la Constitución Política de los Estados Unidos Mexicanos modificando la denominación de Distrito Federal por el de Ciudad de México.\n",
      "---\n",
      "Propone armonizar los artículos 26 y 73 de la Constitución Política de los Estados Unidos Mexicanos modificando la denominación de [ESTADO] por el de [ESTADO] \n",
      "---\n",
      "Propone armonizar los artículos 26 y 73 de la Constitución Política de los Estados Unidos Mexicanos modificando la denominación de [ESTADO] por el de [ESTADO] \n",
      "==================================================\n",
      "Propone reformar la Constitución Política de los Estados Unidos Mexicanos para dejar la mención de Distrito Federal y dar paso a la denominación de Ciudad de México.\n",
      "---\n",
      "Propone reformar la Constitución Política de los Estados Unidos Mexicanos para dejar la mención de [ESTADO] y dar paso a la denominación de [ESTADO] \n",
      "---\n",
      "Propone reformar la Constitución Política de los Estados Unidos Mexicanos para dejar la mención de [ESTADO] y dar paso a la denominación de [ESTADO] \n",
      "==================================================\n",
      "Propone que se cuente con espacios y dormitorios adecuados que garanticen una estancia digna para sus hijas e hijos durante su permanencia en el Centro Penitenciario. En caso de no contar con instalaciones suficientes, podrán compartirse con otras madres.\n",
      "---\n",
      "Propone que se cuente con espacios y dormitorios adecuados que garanticen una estancia digna para sus hijas e hijos durante su permanencia en el [MUNICIPIO] Penitenciario. En caso de no contar con instalaciones suficientes, podrán compartirse con otras madres.\n",
      "---\n",
      "Propone que se cuente con espacios y dormitorios adecuados que garanticen una estancia digna para sus hijas e hijos durante su permanencia en el Centro Penitenciario. En caso de no contar con instalaciones suficientes, podrán compartirse con otras madres.\n",
      "==================================================\n",
      "Propone armonizar la Ley para cambiar las siguientes referencias: Centro de Investigación y Seguridad Nacional por Centro Nacional de Inteligencia; Ley General que establece las Bases de Coordinación del Sistema Nacional de Seguridad Pública por Ley General del Sistema Nacional de Seguridad Pública; Código Federal de Procedimientos Penales y la Ley Federal contra la Delincuencia Organizada por Código Nacional de Procedimientos Penales; El Secretario de Seguridad Pública por Secretario de Seguridad Pública y Protección Ciudadana; y Director General del Centro de Investigación y Seguridad Nacional por Director del Centro Nacional de Inteligencia.\n",
      "---\n",
      "Propone armonizar la Ley para cambiar las siguientes referencias: [MUNICIPIO] de Investigación y Seguridad Nacional por [MUNICIPIO] Nacional de Inteligencia; Ley General que establece las Bases de Coordinación del Sistema Nacional de Seguridad Pública por Ley General del Sistema Nacional de Seguridad Pública; Código Federal de Procedimientos Penales y la Ley Federal contra la Delincuencia Organizada por Código Nacional de Procedimientos Penales; El Secretario de Seguridad Pública por Secretario de Seguridad Pública y Protección Ciudadana; y Director General del [MUNICIPIO] de Investigación y Seguridad Nacional por Director del [MUNICIPIO] Nacional de Inteligencia.\n",
      "---\n",
      "Propone armonizar la Ley para cambiar las siguientes referencias: Centro de Investigación y Seguridad Nacional por Centro Nacional de Inteligencia; Ley General que establece las Bases de Coordinación del Sistema Nacional de Seguridad Pública por Ley General del Sistema Nacional de Seguridad Pública; Código Federal de Procedimientos Penales y la Ley Federal contra la Delincuencia Organizada por Código Nacional de Procedimientos Penales; El Secretario de Seguridad Pública por Secretario de Seguridad Pública y Protección Ciudadana; y Director General del Centro de Investigación y Seguridad Nacional por Director del Centro Nacional de Inteligencia.\n",
      "==================================================\n",
      "Propone establecer la figura de “segunda vuelta” en los procesos de elección para el titular del poder ejecutivo federal, local y para el Jefe de Gobierno de la Ciudad de México. Por ello, se propone que en el caso del presidente de la República sea electo por mayoría absoluta de los votos válidamente emitidos, lo que representa la mitad más uno de los votos válidos. Si no se obtuviera la mayoría absoluta en una primera votación, se realizará una segunda en la que únicamente participarán los dos candidatos que hayan obtenido el mayor número de votos respecto del total de sufragios emitidos en la primera vuelta. Será electo Presidente quien obtenga la mitad más uno de los votos válidamente emitidos. La elección de segunda vuelta se llevará a cabo el cuarto domingo posterior a la primera votación. La ley establecerá el procedimiento para llevar a cabo la segunda vuelta. Para el caso de los gobernadores de los Estados y el Jefe de Gobierno de la Ciudad de México, se propone que podrán ser electos por mayoría absoluta de los votos válidamente emitidos, lo que representa la mitad más uno de los votos válidos de la elección. Si no se obtuviera la mayoría absoluta en una primera votación, se realizará una segunda en la que únicamente participarán los dos candidatos que hayan obtenido el mayor número de votos respecto del total de sufragios emitidos en la primera vuelta. Será electo gobernador quien obtenga la mitad más uno de los votos válidamente emitidos. Las Legislaturas de los Estados y en el caso de la Ciudad de México, les corresponderá regular el procedimiento y los términos de la convocatoria a la segunda vuelta electoral, la cual deberá desarrollarse el cuarto domingo posterior a la primera elección.\n",
      "---\n",
      "Propone establecer la figura de “segunda vuelta” en los procesos de elección para el titular del poder ejecutivo federal, local y para el Jefe de Gobierno de la [ESTADO]  Por ello, se propone que en el caso del presidente de la República sea electo por mayoría absoluta de los votos válidamente emitidos, lo que representa la mitad más uno de los votos válidos. Si no se obtuviera la mayoría absoluta en una primera votación, se realizará una segunda en la que únicamente participarán los dos candidatos que hayan obtenido el mayor número de votos respecto del total de sufragios emitidos en la primera vuelta. Será electo Presidente quien obtenga la mitad más uno de los votos válidamente emitidos. La elección de segunda vuelta se llevará a cabo el cuarto domingo posterior a la primera votación. La ley establecerá el procedimiento para llevar a cabo la segunda vuelta. Para el caso de los gobernadores de los Estados y el Jefe de Gobierno de la [ESTADO]  se propone que podrán ser electos por mayoría absoluta de los votos válidamente emitidos, lo que representa la mitad más uno de los votos válidos de la elección. Si no se obtuviera la mayoría absoluta en una primera votación, se realizará una segunda en la que únicamente participarán los dos candidatos que hayan obtenido el mayor número de votos respecto del total de sufragios emitidos en la primera vuelta. Será electo gobernador quien obtenga la mitad más uno de los votos válidamente emitidos. Las Legislaturas de los Estados y en el caso de la [ESTADO]  les corresponderá regular el procedimiento y los términos de la convocatoria a la segunda vuelta electoral, la cual deberá desarrollarse el cuarto domingo posterior a la primera elección.\n",
      "---\n",
      "Propone establecer la figura de “segunda vuelta” en los procesos de elección para el titular del poder ejecutivo federal, local y para el Jefe de Gobierno de la [ESTADO]  Por ello, se propone que en el caso del presidente de la República sea electo por mayoría absoluta de los votos válidamente emitidos, lo que representa la mitad más uno de los votos válidos. Si no se obtuviera la mayoría absoluta en una primera votación, se realizará una segunda en la que únicamente participarán los dos candidatos que hayan obtenido el mayor número de votos respecto del total de sufragios emitidos en la primera vuelta. Será electo Presidente quien obtenga la mitad más uno de los votos válidamente emitidos. La elección de segunda vuelta se llevará a cabo el cuarto domingo posterior a la primera votación. La ley establecerá el procedimiento para llevar a cabo la segunda vuelta. Para el caso de los gobernadores de los Estados y el Jefe de Gobierno de la [ESTADO]  se propone que podrán ser electos por mayoría absoluta de los votos válidamente emitidos, lo que representa la mitad más uno de los votos válidos de la elección. Si no se obtuviera la mayoría absoluta en una primera votación, se realizará una segunda en la que únicamente participarán los dos candidatos que hayan obtenido el mayor número de votos respecto del total de sufragios emitidos en la primera vuelta. Será electo gobernador quien obtenga la mitad más uno de los votos válidamente emitidos. Las Legislaturas de los Estados y en el caso de la [ESTADO]  les corresponderá regular el procedimiento y los términos de la convocatoria a la segunda vuelta electoral, la cual deberá desarrollarse el cuarto domingo posterior a la primera elección.\n",
      "==================================================\n",
      "Propone que se declare el 4 de junio de cada año como “Día de la Rebelión de Valladolid, primera chispa de la Revolución Mexicana”. En virtud de la importancia de este acontecimiento y sea considerada por esta soberanía como efeméride nacional.\n",
      "---\n",
      "Propone que se declare el 4 de junio de cada año como “Día de la Rebelión de [MUNICIPIO]  primera chispa de la Revolución Mexicana”. En virtud de la importancia de este acontecimiento y sea considerada por esta soberanía como efeméride nacional.\n",
      "---\n",
      "Propone que se declare el 4 de junio de cada año como “Día de la Rebelión de Valladolid, primera chispa de la Revolución Mexicana”. En virtud de la importancia de este acontecimiento y sea considerada por [AUTORIDAD] como efeméride nacional.\n",
      "==================================================\n",
      "Propone que se emitan los mecanismos de recuperación y acopio para fomentar el reciclaje, la gestión y recolección de los neumáticos usados en los municipios del país y en las demarcaciones territoriales de la Ciudad de México.\n",
      "---\n",
      "Propone que se emitan los mecanismos de recuperación y acopio para fomentar el reciclaje, la gestión y recolección de los neumáticos usados en los municipios del país y en las demarcaciones territoriales de la [ESTADO] \n",
      "---\n",
      "Propone que se emitan los mecanismos de recuperación y acopio para fomentar el reciclaje, la gestión y recolección de los neumáticos usados en los municipios del país y en las demarcaciones territoriales de la [ESTADO] \n",
      "==================================================\n",
      "Propone que el Banco de México emita una moneda alusiva al 144 aniversario del natalicio de Emiliano Zapata Salazar con un valor nominal de 20 pesos.\n",
      "---\n",
      "Propone que el Banco de México emita una moneda alusiva al 144 aniversario del natalicio de [MUNICIPIO] Salazar con un valor nominal de 20 pesos.\n",
      "---\n",
      "Propone que el Banco de México emita una moneda alusiva al 144 aniversario del natalicio de Emiliano Zapata Salazar con un valor nominal de 20 pesos.\n",
      "==================================================\n",
      "Propone que los siguientes días se ice la bandera en los edificios sede de las Autoridades y de las representaciones diplomáticas y consulares de México en el extranjero, así como en los edificios de las Autoridades e Instituciones que presten servicios educativos y médicos y en las oficinas migratorias, aduanas, capitanías de puerto, aeropuertos, y en plazas públicas que las propias Autoridades: - El 30 de enero, por el aniversario del nacimiento de Elvia Carrillo Puerto. - El 8 de marzo, por el Día Internacional de la Mujer. - El 10 de abril, por el aniversario del nacimiento de María de la Soledad Leona Camila Vicario Fernández de San Salvador. - El 11 de abril, por el nacimiento de María Gertrudis Teodora Bocanegra Lazo. - El 19 de abril, por el aniversario del nacimiento de María Josefa Cresencia Ortiz Téllez-Girón. - El 22 de mayo por el aniversario del nacimiento de Rita Cetina Gutiérrez. - El 2 de junio, por el aniversario del nacimiento de Hermila Galindo Acosta. - El 7 de junio, por el aniversario del nacimiento de Dolores Jiménez y Muro. - El 17 de octubre, para reconocer el derecho al voto de la mujer. - El 11 de noviembre, por el aniversario del nacimiento de María del Carmen Martina Serdán Alatriste. - El 12 de noviembre, por el aniversario del nacimiento de Juana Inés de Asbaje Ramírez de Santillana (sor Juana Inés de la Cruz). Así mismo se elevará a media asta en las siguientes fechas: - El 2 de enero, por el aniversario de la muerte de Margarita Eustaquia Maza Parada. - El 15 de enero, por el aniversario de la muerte de María Ignacia Reich. - El 26 de enero por el aniversario de la muerte de Matilde Petra Montoya Lafragua. El 2 de marzo aniversario de la muerte de María Josefa Ortiz Téllez-Girón. - 17 de abril, por el aniversario de la muerte de Juana Inés de Asbaje Ramírez de Santillana (Sor Juana Inés de la Cruz). 18 de abril, por el aniversario de la muerte de Elvia Carrillo Puerto. - El 3 de junio, por el aniversario de la muerte de Amalia González Caballero; - El 13 de julio, por el aniversario de la muerte de Juana Belén Gutiérrez; - El 16 de julio, por el aniversario de la muerte de María Refugio García Martínez (Cuca García). - El 31 de julio, por el Aniversario de la muerte de María Guadalupe Sara Pérez Romero. - El 9 de agosto, por el Aniversario de la muerte de Hermila Galindo Acosta. - El 21 de agosto, aniversario de la muerte de María de la Soledad Camila Leona Vicario Fernández de San Salvador y de María del Carmen Martina Serdán Alatriste. - El 22 de septiembre, por el aniversario de la muerte de Laureana Wright González. - El 11 de octubre, aniversario de la muerte de María Gertrudis Teodora Bocanegra Lazo Mendoza y de Rita Cetina Gutiérrez. - El 15 de octubre, por el aniversario de la muerte de Dolores Jiménez y Muro. - El 19 de octubre, aniversario de la muerte de Juan Catalina Romero Egaña. - El 3 de noviembre, por el aniversario de la muerte de Elena Irene Arizmendi Mejía. - El 25 de noviembre, por Día Internacional de la eliminación de la violencia contra la mujer (por las víctimas de feminicidio);\n",
      "---\n",
      "Propone que los siguientes días se ice la bandera en los edificios sede de las Autoridades y de las representaciones diplomáticas y consulares de México en el extranjero, así como en los edificios de las Autoridades e Instituciones que presten servicios educativos y médicos y en las oficinas migratorias, aduanas, capitanías de puerto, aeropuertos, y en plazas públicas que las propias Autoridades: - El 30 de enero, por el aniversario del nacimiento de Elvia [MUNICIPIO]  - El 8 de marzo, por el Día Internacional de la Mujer. - El 10 de abril, por el aniversario del nacimiento de María de la Soledad Leona Camila Vicario Fernández de [MUNICIPIO]  - El 11 de abril, por el nacimiento de María Gertrudis Teodora Bocanegra Lazo. - El 19 de abril, por el aniversario del nacimiento de María Josefa Cresencia Ortiz Téllez-Girón. - El 22 de mayo por el aniversario del nacimiento de Rita Cetina Gutiérrez. - El 2 de junio, por el aniversario del nacimiento de Hermila Galindo Acosta. - El 7 de junio, por el aniversario del nacimiento de Dolores [MUNICIPIO] y Muro. - El 17 de octubre, para reconocer el derecho al voto de la mujer. - El 11 de noviembre, por el aniversario del nacimiento de María del [MUNICIPIO] Martina Serdán Alatriste. - El 12 de noviembre, por el aniversario del nacimiento de Juana Inés de Asbaje Ramírez de Santillana (sor Juana Inés de la Cruz). Así mismo se elevará a media asta en las siguientes fechas: - El 2 de enero, por el aniversario de la muerte de Margarita Eustaquia Maza Parada. - El 15 de enero, por el aniversario de la muerte de María Ignacia Reich. - El 26 de enero por el aniversario de la muerte de Matilde Petra Montoya [MUNICIPIO]  El 2 de marzo aniversario de la muerte de María Josefa Ortiz Téllez-Girón. - 17 de abril, por el aniversario de la muerte de Juana Inés de Asbaje Ramírez de Santillana (Sor Juana Inés de la Cruz). 18 de abril, por el aniversario de la muerte de Elvia [MUNICIPIO]  - El 3 de junio, por el aniversario de la muerte de Amalia [MUNICIPIO] Caballero; - El 13 de julio, por el aniversario de la muerte de Juana Belén Gutiérrez; - El 16 de julio, por el aniversario de la muerte de María Refugio [MUNICIPIO] Martínez (Cuca García). - El 31 de julio, por el Aniversario de la muerte de María [MUNICIPIO] Sara Pérez Romero. - El 9 de agosto, por el Aniversario de la muerte de Hermila Galindo Acosta. - El 21 de agosto, aniversario de la muerte de María de la Soledad Camila Leona Vicario Fernández de [MUNICIPIO] y de María del [MUNICIPIO] Martina Serdán Alatriste. - El 22 de septiembre, por el aniversario de la muerte de Laureana Wright [MUNICIPIO]  - El 11 de octubre, aniversario de la muerte de María Gertrudis Teodora Bocanegra Lazo Mendoza y de Rita Cetina Gutiérrez. - El 15 de octubre, por el aniversario de la muerte de Dolores [MUNICIPIO] y Muro. - El 19 de octubre, aniversario de la muerte de Juan Catalina Romero Egaña. - El 3 de noviembre, por el aniversario de la muerte de Elena Irene Arizmendi Mejía. - El 25 de noviembre, por Día Internacional de la eliminación de la violencia contra la mujer (por las víctimas de feminicidio);\n",
      "---\n",
      "Propone que los siguientes días se ice la bandera en los edificios sede de las Autoridades y de las representaciones diplomáticas y consulares de México en el extranjero, así como en los edificios de las Autoridades e Instituciones que presten servicios educativos y médicos y en las oficinas migratorias, aduanas, capitanías de puerto, aeropuertos, y en plazas públicas que las propias Autoridades: - El 30 de enero, por el aniversario del nacimiento de Elvia Carrillo Puerto. - El 8 de marzo, por el Día Internacional de la Mujer. - El 10 de abril, por el aniversario del nacimiento de María de la Soledad Leona Camila Vicario Fernández de San Salvador. - El 11 de abril, por el nacimiento de María Gertrudis Teodora Bocanegra Lazo. - El 19 de abril, por el aniversario del nacimiento de María Josefa Cresencia Ortiz Téllez-Girón. - El 22 de mayo por el aniversario del nacimiento de Rita Cetina Gutiérrez. - El 2 de junio, por el aniversario del nacimiento de Hermila Galindo Acosta. - El 7 de junio, por el aniversario del nacimiento de Dolores Jiménez y Muro. - El 17 de octubre, para reconocer el derecho al voto de la mujer. - El 11 de noviembre, por el aniversario del nacimiento de María del Carmen Martina Serdán Alatriste. - El 12 de noviembre, por el aniversario del nacimiento de Juana Inés de Asbaje Ramírez de Santillana (sor Juana Inés de la Cruz). Así mismo se elevará a media asta en las siguientes fechas: - El 2 de enero, por el aniversario de la muerte de Margarita Eustaquia Maza Parada. - El 15 de enero, por el aniversario de la muerte de María Ignacia Reich. - El 26 de enero por el aniversario de la muerte de Matilde Petra Montoya Lafragua. El 2 de marzo aniversario de la muerte de María Josefa Ortiz Téllez-Girón. - 17 de abril, por el aniversario de la muerte de Juana Inés de Asbaje Ramírez de Santillana (Sor Juana Inés de la Cruz). 18 de abril, por el aniversario de la muerte de Elvia Carrillo Puerto. - El 3 de junio, por el aniversario de la muerte de Amalia González Caballero; - El 13 de julio, por el aniversario de la muerte de Juana Belén Gutiérrez; - El 16 de julio, por el aniversario de la muerte de María Refugio García Martínez (Cuca García). - El 31 de julio, por el Aniversario de la muerte de María Guadalupe Sara Pérez Romero. - El 9 de agosto, por el Aniversario de la muerte de Hermila Galindo Acosta. - El 21 de agosto, aniversario de la muerte de María de la Soledad Camila Leona Vicario Fernández de San Salvador y de María del Carmen Martina Serdán Alatriste. - El 22 de septiembre, por el aniversario de la muerte de Laureana Wright González. - El 11 de octubre, aniversario de la muerte de María Gertrudis Teodora Bocanegra Lazo Mendoza y de Rita Cetina Gutiérrez. - El 15 de octubre, por el aniversario de la muerte de Dolores Jiménez y Muro. - El 19 de octubre, aniversario de la muerte de Juan Catalina Romero Egaña. - El 3 de noviembre, por el aniversario de la muerte de Elena Irene Arizmendi Mejía. - El 25 de noviembre, por Día Internacional de la eliminación de la violencia contra la mujer (por las víctimas de feminicidio);\n",
      "==================================================\n",
      "Propone actualizar este ordenamiento jurídico cambiando las referencias al Distrito Federal por Ciudad de México y las que se refieren al salario mínimo por Unidad de Medida y Actualización.\n",
      "---\n",
      "Propone actualizar este ordenamiento jurídico cambiando las referencias al [ESTADO] por [ESTADO] y las que se refieren al salario mínimo por Unidad de Medida y Actualización.\n",
      "---\n",
      "Propone actualizar este ordenamiento jurídico cambiando las referencias al [ESTADO] por [ESTADO] y las que se refieren al salario mínimo por Unidad de Medida y Actualización.\n",
      "==================================================\n",
      "Propone la creación de un Fondo en materia de Seguridad Pública para municipios y demarcaciones territoriales de la Ciudad de México, mismo que estará conformado con al menos un 3% del gasto neto total del Presupuesto de Egresos de la Federación y será distribuido a los municipios y alcaldías de la Ciudad de México y , en su caso a las entidades federativas que ejerzan de manera directa o coordinada la función de seguridad pública, para la capacitación, certificación, equipamiento y mejora de condiciones laborales; así como para la adquisición de equipo e infraestructura y otras necesidades vinculadas a la función de la seguridad pública.\n",
      "---\n",
      "Propone la creación de un Fondo en materia de Seguridad Pública para municipios y demarcaciones territoriales de la [ESTADO]  mismo que estará conformado con al menos un 3% del gasto neto total del Presupuesto de Egresos de la Federación y será distribuido a los municipios y alcaldías de la [ESTADO] y , en su caso a las entidades federativas que ejerzan de manera directa o coordinada la función de seguridad pública, para la capacitación, certificación, equipamiento y mejora de condiciones laborales; así como para la adquisición de equipo e infraestructura y otras necesidades vinculadas a la función de la seguridad pública.\n",
      "---\n",
      "Propone la creación de un Fondo en materia de Seguridad Pública para municipios y demarcaciones territoriales de la [ESTADO]  mismo que estará conformado con al menos un 3% del gasto neto total del Presupuesto de Egresos de la Federación y será distribuido a los municipios y alcaldías de la [ESTADO] y , en su caso a las entidades federativas que ejerzan de manera directa o coordinada la función de seguridad pública, para la capacitación, certificación, equipamiento y mejora de condiciones laborales; así como para la adquisición de equipo e infraestructura y otras necesidades vinculadas a la función de la seguridad pública.\n",
      "==================================================\n",
      "Propone establecer que la Zona Pacífico también comprenderá los municipios de Janos, Ascensión, Juárez, Praxedis G. de Guerrero y Guadalupe del Estado de Chihuahua, lo que implicará que su horario se determine conforme al paralelo 105 en lugar de 90 grados al oeste de Greenwich. Para el horario estacional les aplicará el horario correspondiente al paralelo 90 al oeste de Greenwich. Adiciona los municipios de Coyame de Sotol, Ojinaga y Manuel Benavides al horario estacional correspondiente a los 75 grados al oeste de Greenwich.\n",
      "---\n",
      "Propone establecer que la Zona Pacífico también comprenderá los [MUNICIPIO]  [MUNICIPIO]  [MUNICIPIO]  [MUNICIPIO] y [MUNICIPIO] del [ESTADO]  lo que implicará que su horario se determine conforme al paralelo 105 en lugar de 90 grados al oeste de Greenwich. Para el horario estacional les aplicará el horario correspondiente al paralelo 90 al oeste de Greenwich. Adiciona los [MUNICIPIO]  [MUNICIPIO] y [MUNICIPIO] al horario estacional correspondiente a los 75 grados al oeste de Greenwich.\n",
      "---\n",
      "Propone establecer que la Zona Pacífico también comprenderá los [MUNICIPIO]  [MUNICIPIO]  [MUNICIPIO]  [MUNICIPIO] y [MUNICIPIO] del [ESTADO]  lo que implicará que su horario se determine conforme al paralelo 105 en lugar de 90 grados al oeste de Greenwich. Para el horario estacional les aplicará el horario correspondiente al paralelo 90 al oeste de Greenwich. Adiciona los [MUNICIPIO]  [MUNICIPIO] y [MUNICIPIO] al horario estacional correspondiente a los 75 grados al oeste de Greenwich.\n",
      "==================================================\n",
      "Propone expedir la Ley Federal para la Atención Integral del Cáncer de Mama la cual tendrá por objeto establecer los lineamientos para la promoción de la salud, prevención, diagnóstico, atención, tratamiento, rehabilitación, control y vigilancia epidemiológica del cáncer de mama en el territorio nacional. En esta ley de nueva creación se faculta directamente a la Secretaría de Salud emitirá las disposiciones, lineamientos y reglas para la atención integral del cáncer de mama, las cuales tendrán como objetivo unificar la prestación de esos servicios, los programas o acciones de detección o atención de cáncer de mama que realicen las Dependencias, Órganos Desconcentrados y Entidades que integran la Administración Pública Federal, en el ámbito de sus competencias. Así mismo, se atribuye al Instituto Nacional de las Mujeres para que coadyuve con la Secretaría de Salud del Gobierno Federal en la instrumentación de las acciones derivadas de esta nueva ley.\n",
      "---\n",
      "Propone expedir la Ley Federal para la Atención Integral del Cáncer de [MUNICIPIO] la cual tendrá por objeto establecer los lineamientos para la promoción de la salud, prevención, diagnóstico, atención, tratamiento, rehabilitación, control y vigilancia epidemiológica del cáncer de mama en el territorio nacional. En esta ley de nueva creación se faculta directamente a la  Salud emitirá las disposiciones, lineamientos y reglas para la atención integral del cáncer de mama, las cuales tendrán como objetivo unificar la prestación de esos servicios, los programas o acciones de detección o atención de cáncer de mama que realicen las Dependencias, Órganos Desconcentrados y Entidades que integran la Administración Pública Federal, en el ámbito de sus competencias. Así mismo, se atribuye al Instituto Nacional de las Mujeres para que coadyuve con la  Salud del Gobierno Federal en la instrumentación de las acciones derivadas de esta nueva ley.\n",
      "---\n",
      "Propone expedir la Ley Federal para la Atención Integral del Cáncer de Mama la cual tendrá por objeto establecer los lineamientos para la promoción de la salud, prevención, diagnóstico, atención, tratamiento, rehabilitación, control y vigilancia epidemiológica del cáncer de mama en el territorio nacional. En esta ley de nueva creación se faculta directamente a la  Salud emitirá las disposiciones, lineamientos y reglas para la atención integral del cáncer de mama, las cuales tendrán como objetivo unificar la prestación de esos servicios, los programas o acciones de detección o atención de cáncer de mama que realicen las Dependencias, Órganos Desconcentrados y Entidades que integran la Administración Pública Federal, en el ámbito de sus competencias. Así mismo, se atribuye al Instituto Nacional de las Mujeres para que coadyuve con la  Salud del Gobierno Federal en la instrumentación de las acciones derivadas de esta nueva ley.\n",
      "==================================================\n",
      "Propone cambiar las referencias al Distrito Federal por Ciudad de México para armonizar este ordenamiento jurídico con la reforma a la Constitución Política de los Estados Unidos Mexicanos en materia de reforma política de la Ciudad de México del 29 de enero de 2016.\n",
      "---\n",
      "Propone cambiar las referencias al [ESTADO] por [ESTADO] para armonizar este ordenamiento jurídico con la reforma a la Constitución Política de los Estados Unidos Mexicanos en materia de reforma política de la [ESTADO] del 29 de enero de 2016.\n",
      "---\n",
      "Propone cambiar las referencias al [ESTADO] por [ESTADO] para armonizar este ordenamiento jurídico con la reforma a la Constitución Política de los Estados Unidos Mexicanos en materia de reforma política de la [ESTADO] del 29 de enero de 2016.\n",
      "==================================================\n",
      "Propone establecer que será materia de salubridad general la prevención, detección temprana y atención especializada del cáncer de mama y cervicouterino, por lo que el Sistema Nacional de Salud deberá diseñar y ejecutar políticas para ello. También crea el Programa de Detección Temprana y Atención Especializada de Cáncer de Mama y Cervicouterino para todas las mujeres que habiten en territorio nacional. Faculta a la Secretaría de Salud para celebrar convenios en esta materia con autoridades estatales y otras dependencias para la atención de este tipo de cáncer. Por último, determina que el presupuesto destinado a este propósito será creciente año con año.\n",
      "---\n",
      "Propone establecer que será materia de salubridad general la prevención, detección temprana y atención especializada del cáncer de mama y cervicouterino, por lo que el Sistema Nacional de Salud deberá diseñar y ejecutar políticas para ello. También crea el Programa de Detección Temprana y Atención Especializada de Cáncer de [MUNICIPIO] y Cervicouterino para todas las mujeres que habiten en territorio nacional. Faculta a la  Salud para celebrar convenios en esta materia con autoridades estatales y otras dependencias para la atención de este tipo de cáncer. Por último, determina que el presupuesto destinado a este propósito será creciente año con año.\n",
      "---\n",
      "Propone establecer que será materia de salubridad general la prevención, detección temprana y atención especializada del cáncer de mama y cervicouterino, por lo que el Sistema Nacional de Salud deberá diseñar y ejecutar políticas para ello. También crea el Programa de Detección Temprana y Atención Especializada de Cáncer de Mama y Cervicouterino para todas las mujeres que habiten en territorio nacional. Faculta a la  Salud para celebrar convenios en esta materia con autoridades estatales y otras dependencias para la atención de este tipo de cáncer. Por último, determina que el presupuesto destinado a este propósito será creciente año con año.\n",
      "==================================================\n",
      "Propone inscribir en el Muro de Honor del Senado de la República, la leyenda: “Benito Juárez, Benemérito de las Américas”\n",
      "---\n",
      "Propone inscribir en el Muro de Honor del Senado_Republica, la leyenda: “Benito [MUNICIPIO]  Benemérito de las Américas”\n",
      "---\n",
      "Propone inscribir en el Muro de Honor del Senado_Republica, la leyenda: “Benito Juárez, Benemérito de las Américas”\n",
      "==================================================\n",
      "Propone añadir las palabras Senadoras y Diputadas a todas las referencias en el texto Constitucional a la Cámara de Diputados y a la Cámara de Senadores para quedar como sigue: Cámara de Diputadas y Diputados y Cámara de Senadoras y Senadores; así como armonizar una referencia al Distrito Federal por el de Ciudad de México.\n",
      "---\n",
      "Propone añadir las palabras Senadoras y Diputadas a todas las referencias en el texto Constitucional a la Cámara de Diputados y a la Camara_Senadores para quedar como sigue: Cámara de Diputadas y Diputados y Cámara de Senadoras y Senadores; así como armonizar una referencia al [ESTADO] por el de [ESTADO] \n",
      "---\n",
      "Propone añadir las palabras Senadoras y Diputadas a todas las referencias en el texto Constitucional a la Cámara de Diputados y a la Camara_Senadores para quedar como sigue: Cámara de Diputadas y Diputados y Cámara de Senadoras y Senadores; así como armonizar una referencia al [ESTADO] por el de [ESTADO] \n",
      "==================================================\n",
      "Propone la inscripción en letras doradas en el Muro de Honor del Senado de la República la leyenda: Guadalupe Victoria, Padre de la República, para reconocer su labor por la nación mexicana en el proceso independentista.\n",
      "---\n",
      "Propone la inscripción en letras doradas en el Muro de Honor del Senado_Republica la leyenda: [MUNICIPIO]  [MUNICIPIO]  Padre de la República, para reconocer su labor por la nación mexicana en el proceso independentista.\n",
      "---\n",
      "Propone la inscripción en letras doradas en el Muro de Honor del Senado_Republica la leyenda: Guadalupe Victoria, Padre de la República, para reconocer su labor por la nación mexicana en el proceso independentista.\n",
      "==================================================\n",
      "Propone aplicar al estado de Baja California Sur, el horario correspondiente a los 105 grados, en concordancia con los 105 grados de su reconocida ubicación.\n",
      "---\n",
      "Propone aplicar al [ESTADO]  [ESTADO] Sur, el horario correspondiente a los 105 grados, en concordancia con los 105 grados de su reconocida ubicación.\n",
      "---\n",
      "Propone aplicar al [ESTADO]  [ESTADO] Sur, el horario correspondiente a los 105 grados, en concordancia con los 105 grados de su reconocida ubicación.\n",
      "==================================================\n",
      "Propone que el Director General del Centro sea designado a través de mayoría calificada, con la aprobación de las dos terceras partes de los integrantes de la Cámara de Senadores, o, en su caso, por la Comisión Permanente del Congreso de la Unión, con la misma votación calificada.\n",
      "---\n",
      "Propone que el Director General del [MUNICIPIO] sea designado a través de mayoría calificada, con la aprobación de las dos terceras partes de los integrantes de la Camara_Senadores, o, en su caso, por la Congreso_Union, con la misma votación calificada.\n",
      "---\n",
      "Propone que el Director General del Centro sea designado a través de mayoría calificada, con la aprobación de las dos terceras partes de los integrantes de la Camara_Senadores, o, en su caso, por la Congreso_Union, con la misma votación calificada.\n",
      "==================================================\n",
      "Propone crear el Centro Nacional de Inteligencia que será un órgano administrativo desconcentrado de la Secretaría de Seguridad y Protección Ciudadana, con autonomía, técnica, operativa y de gasto, adscrito directamente al titular de dicha Secretaría.\n",
      "---\n",
      "Propone crear el [MUNICIPIO] Nacional de Inteligencia que será un órgano administrativo desconcentrado de la  Seguridad y Protección Ciudadana, con autonomía, técnica, operativa y de gasto, adscrito directamente al titular de dicha Secretaría.\n",
      "---\n",
      "Propone crear el Centro Nacional de Inteligencia que será un órgano administrativo desconcentrado de la  Seguridad y Protección Ciudadana, con autonomía, técnica, operativa y de gasto, adscrito directamente al titular de dicha Secretaría.\n",
      "==================================================\n",
      "Propone que el uso de las aportaciones federales a cargo del Fondo de Aportaciones para el Fortalecimiento de los Municipios y las Demarcaciones Territoriales de la Ciudad de México se añada como necesidades de seguridad publica la profesionalización de recursos humanos de las instituciones de seguridad pública; percepciones extraordinarias para los agentes, las cuales no serán regularizables para el Presupuesto de Egresos de la Federación de ejercicios subsecuentes; establecimiento y operación de bases de datos criminalísticos e infraestructura de seguridad pública.\n",
      "---\n",
      "Propone que el uso de las aportaciones federales a cargo del Fondo de Aportaciones para el Fortalecimiento de los Municipios y las Demarcaciones Territoriales de la [ESTADO] se añada como necesidades de seguridad publica la profesionalización de recursos humanos de las instituciones de seguridad pública; percepciones extraordinarias para los agentes, las cuales no serán regularizables para el Presupuesto de Egresos de la Federación de ejercicios subsecuentes; establecimiento y operación de bases de datos criminalísticos e infraestructura de seguridad pública.\n",
      "---\n",
      "Propone que el uso de las aportaciones federales a cargo del Fondo de Aportaciones para el Fortalecimiento de los Municipios y las Demarcaciones Territoriales de la [ESTADO] se añada como necesidades de seguridad publica la profesionalización de recursos humanos de las instituciones de seguridad pública; percepciones extraordinarias para los agentes, las cuales no serán regularizables para el Presupuesto de Egresos de la Federación de ejercicios subsecuentes; establecimiento y operación de bases de datos criminalísticos e infraestructura de seguridad pública.\n",
      "==================================================\n",
      "Propone que se emita una moneda conmemorativa al General Felipe Ángeles, Patriota leal y revolucionario, con un valor nominal de 20 pesos.\n",
      "---\n",
      "Propone que se emita una moneda conmemorativa al [MUNICIPIO]  Patriota leal y revolucionario, con un valor nominal de 20 pesos.\n",
      "---\n",
      "Propone que se emita una moneda conmemorativa al General Felipe Ángeles, Patriota leal y revolucionario, con un valor nominal de 20 pesos.\n",
      "==================================================\n",
      "Propone adecuar el texto normativo que hacen referencia al Distrito Federal, entidad federativa que ya no existe, por lo que en ese orden de ideas se sustituya y se haga respectiva referencia a la Ciudad de México.\n",
      "---\n",
      "Propone adecuar el texto normativo que hacen referencia al [ESTADO]  entidad federativa que ya no existe, por lo que en ese orden de ideas se sustituya y se haga respectiva referencia a la [ESTADO] \n",
      "---\n",
      "Propone adecuar el texto normativo que hacen referencia al [ESTADO]  entidad federativa que ya no existe, por lo que en ese orden de ideas se sustituya y se haga respectiva referencia a la [ESTADO] \n",
      "==================================================\n",
      "Crea el Tribunal Federal Anticorrupción, que se suma a la Suprema Corte de Justicia de la Nación, al Tribunal Electoral, a los Tribunales Colegiados y Unitarios de Circuito y a los Juzgados de Distrito, como uno de los órganos en los que se deposita el ejercicio del Poder Judicial de la Federación.  Propone que las resoluciones que imponen sanciones por responsabilidad administrativa y por faltas de particulares, serán impugnables ante los poderes judiciales, federales y locales, tendrán tribunales especializados en materia de responsabilidades administrativas. El Tribunal Federal Anticorrupción se integrará por tres magistrados de circuito, que serán designados por el Consejo de la Judicatura Federal. En relación con el Tribunal Federal de Justicia Administrativa, se elimina la sección especializada en procedimientos de responsabilidad administrativa, así como la participación de su Presidente como integrante del Comité Coordinador del Sistema Nacional Anticorrupción. Los poderes judiciales de los Estados y el Tribunal Superior de Justicia de la Ciudad de México tendrán tribunales especializados en materia anticorrupción, que tendrán competencia para resolver los recursos que se promuevan en contra de las resoluciones de la entidad local de fiscalización, y de los entes públicos estatales, municipales, de la Ciudad de México o de sus demarcaciones territoriales, según corresponda, que impongan sanciones o pago de indemnizaciones a servidores públicos con motivo de las responsabilidades administrativas en que hubieren incurrido, y a particulares que hayan intervenido en actos vinculados con faltas administrativas graves.\n",
      "---\n",
      "Crea el Tribunal Federal Anticorrupción, que se suma a la Suprema Corte de Justicia de la Nación, al Tribunal Electoral, a los Tribunales Colegiados y Unitarios de Circuito y a los Juzgados de Distrito, como uno de los órganos en los que se deposita el ejercicio del Poder Judicial de la Federación.  Propone que las resoluciones que imponen sanciones por responsabilidad administrativa y por faltas de particulares, serán impugnables ante los poderes judiciales, federales y locales, tendrán tribunales especializados en materia de responsabilidades administrativas. El Tribunal Federal Anticorrupción se integrará por tres magistrados de circuito, que serán designados por el Consejo de la Judicatura Federal. En relación con el Tribunal Federal de Justicia Administrativa, se elimina la sección especializada en procedimientos de responsabilidad administrativa, así como la participación de su Presidente como integrante del Comité Coordinador del Sistema Nacional Anticorrupción. Los poderes judiciales de los Estados y el Tribunal Superior de Justicia de la [ESTADO] tendrán tribunales especializados en materia anticorrupción, que tendrán competencia para resolver los recursos que se promuevan en contra de las resoluciones de la entidad local de fiscalización, y de los entes públicos estatales, municipales, de la [ESTADO] o de sus demarcaciones territoriales, según corresponda, que impongan sanciones o pago de indemnizaciones a servidores públicos con motivo de las responsabilidades administrativas en que hubieren incurrido, y a particulares que hayan intervenido en actos vinculados con faltas administrativas graves.\n",
      "---\n",
      "Crea el Tribunal Federal Anticorrupción, que se suma a la Suprema Corte de Justicia de la Nación, al Tribunal Electoral, a los Tribunales Colegiados y Unitarios de Circuito y a los Juzgados de Distrito, como uno de los órganos en los que se deposita el ejercicio del Poder Judicial de la Federación.  Propone que las resoluciones que imponen sanciones por responsabilidad administrativa y por faltas de particulares, serán impugnables ante los poderes judiciales, federales y locales, tendrán tribunales especializados en materia de responsabilidades administrativas. El Tribunal Federal Anticorrupción se integrará por tres magistrados de circuito, que serán designados por el Consejo de la Judicatura Federal. En relación con el Tribunal Federal de Justicia Administrativa, se elimina la sección especializada en procedimientos de responsabilidad administrativa, así como la participación de su Presidente como integrante del Comité Coordinador del Sistema Nacional Anticorrupción. Los poderes judiciales de los Estados y el Tribunal Superior de Justicia de la [ESTADO] tendrán tribunales especializados en materia anticorrupción, que tendrán competencia para resolver los recursos que se promuevan en contra de las resoluciones de la entidad local de fiscalización, y de los entes públicos estatales, municipales, de la [ESTADO] o de sus demarcaciones territoriales, según corresponda, que impongan sanciones o pago de indemnizaciones a servidores públicos con motivo de las responsabilidades administrativas en que hubieren incurrido, y a particulares que hayan intervenido en actos vinculados con faltas administrativas graves.\n",
      "==================================================\n",
      "Propone establecer el principio de paridad de género en la selección de candidaturas para las gubernaturas y la Jefatura de Gobierno de la Ciudad de México.\n",
      "---\n",
      "Propone establecer el principio de paridad de género en la selección de candidaturas para las gubernaturas y la Jefatura de Gobierno de la [ESTADO] \n",
      "---\n",
      "Propone establecer el principio de paridad de género en la selección de candidaturas para las gubernaturas y la Jefatura de Gobierno de la [ESTADO] \n",
      "==================================================\n",
      "Propone establecer que se destinarán recursos destinados al Poder Judicial de la Federación al Plan General de Reconstrucción y Apoyo a la Población afectada en Acapulco y Coyuca de Benítez por el Huracán Otis.\n",
      "---\n",
      "Propone establecer que se destinarán recursos destinados al Poder Judicial de la Federación al Plan General de Reconstrucción y Apoyo a la Población afectada en Acapulco y [MUNICIPIO] por el Huracán Otis.\n",
      "---\n",
      "Propone establecer que se destinarán recursos destinados al Poder Judicial de la Federación al Plan General de Reconstrucción y Apoyo a la Población afectada en Acapulco y Coyuca de Benítez por el Huracán Otis.\n",
      "==================================================\n",
      "Propone modificar en la totalidad del cuerpo normativo la denominación de “Distrito Federal” por la actual “Ciudad de México”. Por último, propone que se reformen diversos artículos de la Ley General de Turismo a efecto de actualizar la denominación de salarios mínimos a la Unidad de Medida y Actualización, cuando se haga referencia a la Ciudad de México.\n",
      "---\n",
      "Propone modificar en la totalidad del cuerpo normativo la denominación de “Distrito Federal” por la actual “Ciudad de México”. Por último, propone que se reformen diversos artículos de la Ley General de Turismo a efecto de actualizar la denominación de salarios mínimos a la Unidad de Medida y Actualización, cuando se haga referencia a la [ESTADO] \n",
      "---\n",
      "Propone modificar en la totalidad del cuerpo normativo la denominación de “Distrito Federal” por la actual “Ciudad de México”. Por último, propone que se reformen diversos artículos de la Ley General de Turismo a efecto de actualizar la denominación de salarios mínimos a la Unidad de Medida y Actualización, cuando se haga referencia a la [ESTADO] \n",
      "==================================================\n",
      "Propone que, durante el proceso de la discusión de adiciones o reformas constitucionales, las comisiones dictaminadoras convoquen a las legislaturas de las Entidades Federativas y de la Ciudad de México con el objeto de conocer la opinión de estas sobre dichas modificaciones.\n",
      "---\n",
      "Propone que, durante el proceso de la discusión de adiciones o reformas constitucionales, las comisiones dictaminadoras convoquen a las legislaturas de las Entidades Federativas y de la [ESTADO] con el objeto de conocer la opinión de estas sobre dichas modificaciones.\n",
      "---\n",
      "Propone que, durante el proceso de la discusión de adiciones o reformas constitucionales, las comisiones dictaminadoras convoquen a las legislaturas de las Entidades Federativas y de la [ESTADO] con el objeto de conocer la opinión de estas sobre dichas modificaciones.\n",
      "==================================================\n",
      "Propone que en los momentos en que se trate del tratamiento de enfermedades crónico-degenerativas, en los supuestos de desastre natural, pandemia, o aquellos en que la autoridad del Estado, responsable de su adquisición, distribución y dispersión de medicamentos, por caso fortuito o fuerza mayor no los tenga en existencia, las autoridades competentes de las entidades federativas, los municipios y las Alcaldías de la Ciudad de México puedan realizar el proceso de adquisición, a fin de que se garantice el tratamiento a quienes las padecen, ya sea de manera directa y por medio de sus recursos presupuestarios o a través de los recursos del fondo.\n",
      "---\n",
      "Propone que en los momentos en que se trate del tratamiento de enfermedades crónico-degenerativas, en los supuestos de desastre natural, pandemia, o aquellos en que la autoridad del Estado, responsable de su adquisición, distribución y dispersión de medicamentos, por caso fortuito o fuerza mayor no los tenga en existencia, las autoridades competentes de las entidades federativas, los municipios y las Alcaldías de la [ESTADO] puedan realizar el proceso de adquisición, a fin de que se garantice el tratamiento a quienes las padecen, ya sea de manera directa y por medio de sus recursos presupuestarios o a través de los recursos del fondo.\n",
      "---\n",
      "Propone que en los momentos en que se trate del tratamiento de enfermedades crónico-degenerativas, en los supuestos de desastre natural, pandemia, o aquellos en que la autoridad del Estado, responsable de su adquisición, distribución y dispersión de medicamentos, por caso fortuito o fuerza mayor no los tenga en existencia, las autoridades competentes de las entidades federativas, los municipios y las Alcaldías de la [ESTADO] puedan realizar el proceso de adquisición, a fin de que se garantice el tratamiento a quienes las padecen, ya sea de manera directa y por medio de sus recursos presupuestarios o a través de los recursos del fondo.\n",
      "==================================================\n",
      "Propone que se incorporen a las Alcaldías de las 16 Demarcaciones Territoriales de la Ciudad de México, en el esquema legal que regula la infraestructura física educativa, a fin de que, en el esquema de dispersión de recursos en la materia, se evite la triangulación de éstos y se direccionen a las Alcaldías a fin de que sean éstas quienes los ejerzan.\n",
      "---\n",
      "Propone que se incorporen a las Alcaldías de las 16 Demarcaciones Territoriales de la [ESTADO]  en el esquema legal que regula la infraestructura física educativa, a fin de que, en el esquema de dispersión de recursos en la materia, se evite la triangulación de éstos y se direccionen a las Alcaldías a fin de que sean éstas quienes los ejerzan.\n",
      "---\n",
      "Propone que se incorporen a las Alcaldías de las 16 Demarcaciones Territoriales de la [ESTADO]  en el esquema legal que regula la infraestructura física educativa, a fin de que, en el esquema de dispersión de recursos en la materia, se evite la triangulación de éstos y se direccionen a las Alcaldías a fin de que sean éstas quienes los ejerzan.\n",
      "==================================================\n",
      "Propone establecer que corresponde a la Legislatura autorizar los montos de endeudamiento para su inclusión en la Ley de Ingresos que en su caso requiera el Gobierno de la Ciudad de México y las entidades de su Administración Pública, conforme a las bases previstas en la ley respectiva; así como los montos máximos para contratar empréstitos y obligaciones en términos de lo dispuesto por el artículo 117 de esta Constitución y las leyes generales que expida el Congreso de la Unión.\n",
      "---\n",
      "Propone establecer que corresponde a la Legislatura autorizar los montos de endeudamiento para su inclusión en la Ley de Ingresos que en su caso requiera el Gobierno de la [ESTADO] y las entidades de su Administración Pública, conforme a las bases previstas en la ley respectiva; así como los montos máximos para contratar empréstitos y obligaciones en términos de lo dispuesto por el artículo 117 de esta Constitución y las leyes generales que expida el Congreso_Union.\n",
      "---\n",
      "Propone establecer que corresponde a la Legislatura autorizar los montos de endeudamiento para su inclusión en la Ley de Ingresos que en su caso requiera el Gobierno de la [ESTADO] y las entidades de su Administración Pública, conforme a las bases previstas en la ley respectiva; así como los montos máximos para contratar empréstitos y obligaciones en términos de lo dispuesto por el artículo 117 de esta Constitución y las leyes generales que expida el Congreso_Union.\n",
      "==================================================\n",
      "Propone expedir una Ley Federal para Prevenir y Sancionar los Actos de Usura, misma que tiene por objeto la especial atención del sobreendeudamiento, mismo que se ha agravado como consecuencia de las distintas crisis económicas experimentadas a nivel mundo tanto por el uso masivo de créditos en efectivo, que hayan sido celebrados por particulares con entidades no financieras. Se proponen mecanismos y medidas para los procedimientos en los casos en que se declare el sobreendeudamiento, tanto a través de una mediación que tendrá como fin conservar los bienes del sobre endeudado y sea por medio de una solicitud presentada ante el Centro de Justicia Alternativa del Tribunal Superior de Justicia o en su caso, que sea declarado por un Juez. Por último, propone establecer las formas de prevenir la usura en los procedimientos judiciales.\n",
      "---\n",
      "Propone expedir una Ley Federal para Prevenir y Sancionar los Actos de Usura, misma que tiene por objeto la especial atención del sobreendeudamiento, mismo que se ha agravado como consecuencia de las distintas crisis económicas experimentadas a nivel mundo tanto por el uso masivo de créditos en efectivo, que hayan sido celebrados por particulares con entidades no financieras. Se proponen mecanismos y medidas para los procedimientos en los casos en que se declare el sobreendeudamiento, tanto a través de una mediación que tendrá como fin conservar los bienes del sobre endeudado y sea por medio de una solicitud presentada ante el [MUNICIPIO] de Justicia Alternativa del Tribunal Superior de Justicia o en su caso, que sea declarado por un Juez. Por último, propone establecer las formas de prevenir la usura en los procedimientos judiciales.\n",
      "---\n",
      "Propone expedir una Ley Federal para Prevenir y Sancionar los Actos de Usura, misma que tiene por objeto la especial atención del sobreendeudamiento, mismo que se ha agravado como consecuencia de las distintas crisis económicas experimentadas a nivel mundo tanto por el uso masivo de créditos en efectivo, que hayan sido celebrados por particulares con entidades no financieras. Se proponen mecanismos y medidas para los procedimientos en los casos en que se declare el sobreendeudamiento, tanto a través de una mediación que tendrá como fin conservar los bienes del sobre endeudado y sea por medio de una solicitud presentada ante el Centro de Justicia Alternativa del Tribunal Superior de Justicia o en su caso, que sea declarado por un Juez. Por último, propone establecer las formas de prevenir la usura en los procedimientos judiciales.\n",
      "==================================================\n",
      "Propone establecer el principio de paridad entre géneros con la inclusión de un lenguaje incluyente, de igual forma se cambia la denominación de Distrito Federal por la de Ciudad de México.\n",
      "---\n",
      "Propone establecer el principio de paridad entre géneros con la inclusión de un lenguaje incluyente, de igual forma se cambia la denominación de [ESTADO] por la de [ESTADO] \n",
      "---\n",
      "Propone establecer el principio de paridad entre géneros con la inclusión de un lenguaje incluyente, de igual forma se cambia la denominación de [ESTADO] por la de [ESTADO] \n",
      "==================================================\n",
      "Propone el reconocimiento al General Felipe Ángeles en el muro de honor del Senado con el propósito de reconocer a dicho personaje histórico en la vida nacional mexicana, así como se propone la celebración de una sesión solemne el próximo jueves 24 de noviembre del año en curso a efecto de conmemorar el 103 aniversario luctuoso.\n",
      "---\n",
      "Propone el reconocimiento al [MUNICIPIO] en el muro de honor del Senado con el propósito de reconocer a dicho personaje histórico en la vida nacional mexicana, así como se propone la celebración de una sesión solemne el próximo jueves 24 de noviembre del año en curso a efecto de conmemorar el 103 aniversario luctuoso.\n",
      "---\n",
      "Propone el reconocimiento al General Felipe Ángeles en el muro de honor del Senado con el propósito de reconocer a dicho personaje histórico en la vida nacional mexicana, así como se propone la celebración de una sesión solemne el próximo jueves 24 de noviembre del año en curso a efecto de conmemorar el 103 aniversario luctuoso.\n",
      "==================================================\n",
      "Propone cambiar la denominación del Estado de Veracruz por el de Veracruz de Ignacio de la Llave en el texto Constitucional, referente a las partes integrantes de la Federación.\n",
      "---\n",
      "Propone cambiar la denominación del Estado de [MUNICIPIO] por el de [MUNICIPIO]  [ESTADO] en el texto Constitucional, referente a las partes integrantes de la Federación.\n",
      "---\n",
      "Propone cambiar la denominación del Estado de [MUNICIPIO] por el de [MUNICIPIO]  [ESTADO] en el texto Constitucional, referente a las partes integrantes de la Federación.\n",
      "==================================================\n",
      "Propone incluir como uno de los propósitos de la legislación vigente, la atención por medio de tratamiento integral del Cáncer de Mama.\n",
      "---\n",
      "Propone incluir como uno de los propósitos de la legislación vigente, la atención por medio de tratamiento integral del Cáncer de [MUNICIPIO] \n",
      "---\n",
      "Propone incluir como uno de los propósitos de la legislación vigente, la atención por medio de tratamiento integral del Cáncer de Mama.\n",
      "==================================================\n",
      "Propone que se inscriba con letras doradas la leyenda “Felipe Carrillo Puerto, líder socialista de la Nación Maya”, en el Muro de Honor del Salón de Sesiones del Senado de la República, con el propósito de reconocer sus aportaciones como luchador social.\n",
      "---\n",
      "Propone que se inscriba con letras doradas la leyenda “Felipe [MUNICIPIO]  líder socialista de la Nación Maya”, en el Muro de Honor del Salón de Sesiones del Senado_Republica, con el propósito de reconocer sus aportaciones como luchador social.\n",
      "---\n",
      "Propone que se inscriba con letras doradas la leyenda “Felipe Carrillo Puerto, líder socialista de la Nación Maya”, en el Muro de Honor del Salón de Sesiones del Senado_Republica, con el propósito de reconocer sus aportaciones como luchador social.\n",
      "==================================================\n",
      "Propone cambiar la denominación de Distrito Federal por la de Ciudad de México en la Ley del Instituto Mexicano de la Juventud.\n",
      "---\n",
      "Propone cambiar la denominación de [ESTADO] por la de [ESTADO] en la Ley del Instituto Mexicano de la Juventud.\n",
      "---\n",
      "Propone cambiar la denominación de [ESTADO] por la de [ESTADO] en la Ley del Instituto Mexicano de la Juventud.\n",
      "==================================================\n",
      "Propone establecer que participarán en la Junta de Gobierno del Centro Federal de Conciliación y Registro Laboral el representante de las personas trabajadoras como miembro propietario o su suplente; el representante de las organizaciones de las y los patrones quienes informarán a la Junta de la designación de los miembros por cada sector que integrarán la misma.\n",
      "---\n",
      "Propone establecer que participarán en la Junta de Gobierno del [MUNICIPIO] Federal de Conciliación y Registro Laboral el representante de las personas trabajadoras como miembro propietario o su suplente; el representante de las organizaciones de las y los patrones quienes informarán a la Junta de la designación de los miembros por cada sector que integrarán la misma.\n",
      "---\n",
      "Propone establecer que participarán en la Junta de Gobierno del Centro Federal de Conciliación y Registro Laboral el representante de las personas trabajadoras como miembro propietario o su suplente; el representante de las organizaciones de las y los patrones quienes informarán a la Junta de la designación de los miembros por cada sector que integrarán la misma.\n",
      "==================================================\n",
      "Propone crear un nuevo ordenamiento jurídico que tendrá por objeto crear empresas tratadoras de residuos en las entidades federativas y en la Ciudad de México para disminuir el impacto de la actividad del ser humano en la naturaleza, así mismo mejorar las condiciones ambientales. Estas empresas estarás supeditadas a la Secretaría de Medio Ambiente y Recursos Naturales (SEMARNAT) y por lo tanto podrá auditarlas. Crea un plan de manejo enfocado en la protección del medio ambiente, aprovechamiento de residuos, eliminación de agentes infecciosos, contaminación y reducción de contaminantes.\n",
      "---\n",
      "Propone crear un nuevo ordenamiento jurídico que tendrá por objeto crear empresas tratadoras de residuos en las entidades federativas y en la [ESTADO] para disminuir el impacto de la actividad del ser humano en la naturaleza, así mismo mejorar las condiciones ambientales. Estas empresas estarás supeditadas a la  Medio Ambiente y Recursos Naturales (SEMARNAT) y por lo tanto podrá auditarlas. Crea un plan de manejo enfocado en la protección del medio ambiente, aprovechamiento de residuos, eliminación de agentes infecciosos, contaminación y reducción de contaminantes.\n",
      "---\n",
      "Propone crear un nuevo ordenamiento jurídico que tendrá por objeto crear empresas tratadoras de residuos en las entidades federativas y en la [ESTADO] para disminuir el impacto de la actividad del ser humano en la naturaleza, así mismo mejorar las condiciones ambientales. Estas empresas estarás supeditadas a la  Medio Ambiente y Recursos Naturales (SEMARNAT) y por lo tanto podrá auditarlas. Crea un plan de manejo enfocado en la protección del medio ambiente, aprovechamiento de residuos, eliminación de agentes infecciosos, contaminación y reducción de contaminantes.\n",
      "==================================================\n",
      "Propone que, si procede en juicios de amparo la protección del o los solicitantes, se exceptuara en aquellos casos en que se reconozca la violación de un derecho fundamental de naturaleza supraindividual de tipo difuso. Elimina que cuando en dos ocasiones las salas o el pleno de la Suprema Corte de Justicia de la Nación (SCJN) determine la institucionalidad de una norma general el presidente de la respectiva sala o de la Suprema Corte lo debe informar a la autoridad emisora de la norma; propone que en ese supuesto se hará de conocimiento del Presidente del Alto Tribunal para que ordene se informe a la autoridad emisora de la existencia de esos precedentes, para que en el ámbito de sus facultades modifique o derogue su producto legislativo y así se salve el vicio de inconstitucionalidad detectado. Cuando el Pleno de la SCJN o algunas de sus salas en asuntos de su competencia establezcan jurisprudencia en la cual se determine inconstitucionalidad de una norma general lo harán del conocimiento de la Presidencia de ese Alto Tribunal para que se haga la notificación por oficio, el cual deberá estar acompañado de la copia certificada de las sentencias que hayan motivado dicha jurisprudencia; se integre el expediente y se turne al Ministro que corresponda. Una vez hecha la notificación al órgano emisor de la norma se le dará un plazo de 90 días para modificar o derogar dicha norma; cuando el órgano emisor sea el congreso federal o local dicho plazo se computará dentro de los días útiles de los periodos ordinarios de sesiones; si transcurre el plazo y lo anterior no sucede el Ministro Ponente en los siguientes 10 días hábiles deberá remitir a la Secretaria General de Acuerdos de la SCJN el proyecto de resolución correspondiente que deberá listarse para sesión pública; en ese caso el Pleno de la SCJN emitirá la declaratoria general de inconstitucionalidad correspondiente cuando esta haya sido aprobada por mayoría de cuando menos ocho votos, de no suceder se desestimará el asunto. Además. cuando se forme jurisprudencia en la que se determine inconstitucionalidad se dará vista al Pleno para que en los 30 días hábiles siguientes se pronuncie sobre el criterio sostenido en la misma, si se aprueba por mayoría de los ministros presentes se procederá de inmediato a realizarse lo contenido en el artículo 232, enunciado en el párrafo anterior. En caso contrario se procederá a la emisión de un nuevo criterio. Cuando los Plenos de circuito que establezcan jurisprudencia por contradicción de criterio o tengan conocimiento que dentro de su circuito se ha emitido jurisprudencia por eso mismo en la que se determine inconstitucionalidad de una norma general deberán informar de ello al Máximo Tribunal para constatar si el criterio sostenido a pugna con el sustentado por otro Pleno o Tribunal. Reforma la Ley Orgánica de l Poder Judicial para facultar a los Plenos de Circuito para informar a la SCJN sobre acuerdos generales que emita el Consejo de la Judicatura Federal cuando se haya emitido jurisprudencia en la que se declare la inconstitucionalidad de una norma general.\n",
      "---\n",
      "Propone que, si procede en juicios de amparo la protección del o los solicitantes, se exceptuara en aquellos casos en que se reconozca la violación de un derecho fundamental de naturaleza supraindividual de tipo difuso. Elimina que cuando en dos ocasiones las salas o el pleno de la Suprema Corte de Justicia de la Nación (SCJN) determine la institucionalidad de una norma general el presidente de la respectiva sala o de la Suprema Corte lo debe informar a la autoridad emisora de la norma; propone que en ese supuesto se hará de conocimiento del Presidente del Alto Tribunal para que ordene se informe a la autoridad emisora de la existencia de esos precedentes, para que en el ámbito de sus facultades modifique o derogue su producto legislativo y así se salve el vicio de inconstitucionalidad detectado. Cuando el Pleno de la SCJN o algunas de sus salas en asuntos de su competencia establezcan jurisprudencia en la cual se determine inconstitucionalidad de una norma general lo harán del conocimiento de la Presidencia de ese Alto Tribunal para que se haga la notificación por oficio, el cual deberá estar acompañado de la copia certificada de las sentencias que hayan motivado dicha jurisprudencia; se integre el expediente y se turne al Ministro que corresponda. Una vez hecha la notificación al órgano emisor de la norma se le dará un plazo de 90 días para modificar o derogar dicha norma; cuando el órgano emisor sea el congreso federal o local dicho plazo se computará dentro de los días útiles de los periodos ordinarios de sesiones; si transcurre el plazo y lo anterior no sucede el Ministro Ponente en los siguientes 10 días hábiles deberá remitir a la Secretaria General de Acuerdos de la SCJN el proyecto de resolución correspondiente que deberá listarse para sesión pública; en ese caso el Pleno de la SCJN emitirá la declaratoria general de inconstitucionalidad correspondiente cuando esta haya sido aprobada por mayoría de cuando menos ocho votos, de no suceder se desestimará el asunto. Además. cuando se forme jurisprudencia en la que se determine inconstitucionalidad se dará vista al Pleno para que en los 30 días hábiles siguientes se pronuncie sobre el criterio sostenido en la misma, si se aprueba por mayoría de los ministros presentes se procederá de inmediato a realizarse lo contenido en el artículo 232, enunciado en el párrafo anterior. En caso contrario se procederá a la emisión de un nuevo criterio. Cuando los Plenos de circuito que establezcan jurisprudencia por contradicción de criterio o tengan conocimiento que dentro de su circuito se ha emitido jurisprudencia por eso mismo en la que se determine inconstitucionalidad de una norma general deberán informar de ello al Máximo Tribunal para constatar si el criterio sostenido a pugna con el sustentado por otro Pleno o Tribunal. [MUNICIPIO] la Ley Orgánica de l Poder Judicial para facultar a los Plenos de Circuito para informar a la SCJN sobre acuerdos generales que emita el Consejo de la Judicatura Federal cuando se haya emitido jurisprudencia en la que se declare la inconstitucionalidad de una norma general.\n",
      "---\n",
      "Propone que, si procede en juicios de amparo la protección del o los solicitantes, se exceptuara en aquellos casos en que se reconozca la violación de un derecho fundamental de naturaleza supraindividual de tipo difuso. Elimina que cuando en dos ocasiones las salas o el pleno de la Suprema Corte de Justicia de la Nación (SCJN) determine la institucionalidad de una norma general el presidente de la respectiva sala o de la Suprema Corte lo debe informar a la autoridad emisora de la norma; propone que en ese supuesto se hará de conocimiento del Presidente del Alto Tribunal para que ordene se informe a la autoridad emisora de la existencia de esos precedentes, para que en el ámbito de sus facultades modifique o derogue su producto legislativo y así se salve el vicio de inconstitucionalidad detectado. Cuando el Pleno de la SCJN o algunas de sus salas en asuntos de su competencia establezcan jurisprudencia en la cual se determine inconstitucionalidad de una norma general lo harán del conocimiento de la Presidencia de ese Alto Tribunal para que se haga la notificación por oficio, el cual deberá estar acompañado de la copia certificada de las sentencias que hayan motivado dicha jurisprudencia; se integre el expediente y se turne al Ministro que corresponda. Una vez hecha la notificación al órgano emisor de la norma se le dará un plazo de 90 días para modificar o derogar dicha norma; cuando el órgano emisor sea el congreso federal o local dicho plazo se computará dentro de los días útiles de los periodos ordinarios de sesiones; si transcurre el plazo y lo anterior no sucede el Ministro Ponente en los siguientes 10 días hábiles deberá remitir a la Secretaria General de Acuerdos de la SCJN el proyecto de resolución correspondiente que deberá listarse para sesión pública; en ese caso el Pleno de la SCJN emitirá la declaratoria general de inconstitucionalidad correspondiente cuando esta haya sido aprobada por mayoría de cuando menos ocho votos, de no suceder se desestimará el asunto. Además. cuando se forme jurisprudencia en la que se determine inconstitucionalidad se dará vista al Pleno para que en los 30 días hábiles siguientes se pronuncie sobre el criterio sostenido en la misma, si se aprueba por mayoría de los ministros presentes se procederá de inmediato a realizarse lo contenido en el artículo 232, enunciado en el párrafo anterior. En caso contrario se procederá a la emisión de un nuevo criterio. Cuando los Plenos de circuito que establezcan jurisprudencia por contradicción de criterio o tengan conocimiento que dentro de su circuito se ha emitido jurisprudencia por eso mismo en la que se determine inconstitucionalidad de una norma general deberán informar de ello al Máximo Tribunal para constatar si el criterio sostenido a pugna con el sustentado por otro Pleno o Tribunal. Reforma la Ley Orgánica de l Poder Judicial para facultar a los Plenos de Circuito para informar a la SCJN sobre acuerdos generales que emita el Consejo de la Judicatura Federal cuando se haya emitido jurisprudencia en la que se declare la inconstitucionalidad de una norma general.\n",
      "==================================================\n",
      "Propone que las autoridades competentes de todos los niveles de gobierno concurran para promover la creación de residencias de día en las entidades federativas, municipios y demarcaciones de la Ciudad de México, así como para promover la creación de residencias de día que garanticen la asistencia integral de las personas adultas.\n",
      "---\n",
      "Propone que las autoridades competentes de todos los niveles de gobierno concurran para promover la creación de residencias de día en las entidades federativas, municipios y demarcaciones de la [ESTADO]  así como para promover la creación de residencias de día que garanticen la asistencia integral de las personas adultas.\n",
      "---\n",
      "Propone que las autoridades competentes de todos los niveles de gobierno concurran para promover la creación de residencias de día en las entidades federativas, municipios y demarcaciones de la [ESTADO]  así como para promover la creación de residencias de día que garanticen la asistencia integral de las personas adultas.\n",
      "==================================================\n",
      "Propone crear el Centro Nacional de Seguridad Cibernética que tendrá por objeto proponer al Consejo Nacional de Seguridad Pública lineamientos y políticas para prevenir el cibercrimen; promover el uso adecuado de las Tecnologías de la Información; y emitir opiniones y recomendaciones relacionadas con los programas implementados en esta materia por las Instituciones de Seguridad Pública.\n",
      "---\n",
      "Propone crear el [MUNICIPIO] Nacional de Seguridad Cibernética que tendrá por objeto proponer al Consejo Nacional de Seguridad Pública lineamientos y políticas para prevenir el cibercrimen; promover el uso adecuado de las Tecnologías de la Información; y emitir opiniones y recomendaciones relacionadas con los programas implementados en esta materia por las Instituciones de Seguridad Pública.\n",
      "---\n",
      "Propone crear el Centro Nacional de Seguridad Cibernética que tendrá por objeto proponer al Consejo Nacional de Seguridad Pública lineamientos y políticas para prevenir el cibercrimen; promover el uso adecuado de las Tecnologías de la Información; y emitir opiniones y recomendaciones relacionadas con los programas implementados en esta materia por las Instituciones de Seguridad Pública.\n",
      "==================================================\n",
      "Propone la derogación del artículo toda vez que las referencias en desuso como es, el salario mínimo y Distrito Federal, así como el propósito del artículo de establecer una temporalidad para la ejecución de una acción, ha expirado.\n",
      "---\n",
      "Propone la derogación del artículo toda vez que las referencias en desuso como es, el salario mínimo y [ESTADO]  así como el propósito del artículo de establecer una temporalidad para la ejecución de una acción, ha expirado.\n",
      "---\n",
      "Propone la derogación del artículo toda vez que las referencias en desuso como es, el salario mínimo y [ESTADO]  así como el propósito del artículo de establecer una temporalidad para la ejecución de una acción, ha expirado.\n",
      "==================================================\n",
      "Propone emitir una Moneda Conmemorativa por los 200 años de la firma de los Tratados de Córdoba, así como los requisitos por los que se caracterizará dicha moneda.\n",
      "---\n",
      "Propone emitir una Moneda Conmemorativa por los 200 años de la firma de los Tratados de [MUNICIPIO]  así como los requisitos por los que se caracterizará dicha moneda.\n",
      "---\n",
      "Propone emitir una Moneda Conmemorativa por los 200 años de la firma de los Tratados de Córdoba, así como los requisitos por los que se caracterizará dicha moneda.\n",
      "==================================================\n",
      "Proponen que, durante el año 2020 en toda la documentación oficial de la federación se inscriba la leyenda: “2020, Año del General Felipe Ángeles.\n",
      "---\n",
      "Proponen que, durante el año 2020 en toda la documentación oficial de la federación se inscriba la leyenda: “2020, Año del [MUNICIPIO] \n",
      "---\n",
      "Proponen que, durante el año 2020 en toda la documentación oficial de la federación se inscriba la leyenda: “2020, Año del General Felipe Ángeles.\n",
      "==================================================\n",
      "Propone sustituir el concepto de Estados por entidades federativas, así como Distrito Federal por Ciudad de México. Incorporar el concepto de Bases de Datos como: Los que constituyen subconjuntos sistematizados de la información contenida en Registros Nacionales en materias relativas a detenciones, armamento, equipo y personal de seguridad pública, medidas cautelares, soluciones alternas y formas de terminación anticipada, así como las bases de datos del ministerio público y las instituciones policiales de los tres órdenes de gobierno relativas a la información criminalística, huellas dactilares de personas sujetas a un proceso o investigación penal, teléfonos celulares, personas sentenciadas y servicios de seguridad privada, así como las demás necesarias para la prevención, investigación y persecución de los delitos. El conjunto de bases de datos conformara el Sistema Nacional de Información. Así mismo incorporar el concepto de Secretaría como: Secretaria de Seguridad y Protección Ciudadana del Gobierno Federal y Sistema como: Sistema Nacional de Información.\n",
      "---\n",
      "Propone sustituir el concepto de Estados por entidades federativas, así como [ESTADO] por [ESTADO]  Incorporar el concepto de Bases de Datos como: Los que constituyen subconjuntos sistematizados de la información contenida en Registros Nacionales en materias relativas a detenciones, armamento, equipo y personal de seguridad pública, medidas cautelares, soluciones alternas y formas de terminación anticipada, así como las bases de datos del ministerio público y las instituciones policiales de los tres órdenes de gobierno relativas a la información criminalística, huellas dactilares de personas sujetas a un proceso o investigación penal, teléfonos celulares, personas sentenciadas y servicios de seguridad privada, así como las demás necesarias para la prevención, investigación y persecución de los delitos. El conjunto de bases de datos conformara el Sistema Nacional de Información. Así mismo incorporar el concepto de Secretaría como: Secretaria de Seguridad y Protección Ciudadana del Gobierno Federal y Sistema como: Sistema Nacional de Información.\n",
      "---\n",
      "Propone sustituir el concepto de Estados por entidades federativas, así como [ESTADO] por [ESTADO]  Incorporar el concepto de Bases de Datos como: Los que constituyen subconjuntos sistematizados de la información contenida en Registros Nacionales en materias relativas a detenciones, armamento, equipo y personal de seguridad pública, medidas cautelares, soluciones alternas y formas de terminación anticipada, así como las bases de datos del ministerio público y las instituciones policiales de los tres órdenes de gobierno relativas a la información criminalística, huellas dactilares de personas sujetas a un proceso o investigación penal, teléfonos celulares, personas sentenciadas y servicios de seguridad privada, así como las demás necesarias para la prevención, investigación y persecución de los delitos. El conjunto de bases de datos conformara el Sistema Nacional de Información. Así mismo incorporar el concepto de Secretaría como: Secretaria de Seguridad y Protección Ciudadana del Gobierno Federal y Sistema como: Sistema Nacional de Información.\n",
      "==================================================\n",
      "Propone que se inscriba en el Muro de Honor del Senado de la República la leyenda: “José María Morelos Y Pavón, El Siervo De La Nación”.\n",
      "---\n",
      "Propone que se inscriba en el Muro de Honor del Senado_Republica la leyenda: “José María [ESTADO] Y Pavón, El Siervo De La Nación”.\n",
      "---\n",
      "Propone que se inscriba en el Muro de Honor del Senado_Republica la leyenda: “José María Morelos Y Pavón, El Siervo De La Nación”.\n",
      "==================================================\n",
      "Propone que sea una atribución de la Secretaría de Medio Ambiente y Recursos Naturales expedir el Certificado de Madera Sostenible, para garantizar la sustentabilidad de la materia prima y los productos maderables. Asimismo, propone que corresponda a la Secretaría, emitir el Certificado de Madera Sostenible. El Certificado de Madera Sostenible, únicamente tendrá por objeto garantizar la fuente de la que provenga la madera como materia prima o de los productos derivados de ella. Por último, el Certificado podrá ser expedido a quienes realicen la explotación, el aprovechamiento, transporte, almacenamiento, comercialización, importación, exportación, transformación o que posean materias primas y productos forestales.\n",
      "---\n",
      "Propone que sea una atribución de la  Medio Ambiente y Recursos Naturales expedir el Certificado de [MUNICIPIO] Sostenible, para garantizar la sustentabilidad de la materia prima y los productos maderables. Asimismo, propone que corresponda a la Secretaría, emitir el Certificado de [MUNICIPIO] Sostenible. El Certificado de [MUNICIPIO] Sostenible, únicamente tendrá por objeto garantizar la fuente de la que provenga la madera como materia prima o de los productos derivados de ella. Por último, el Certificado podrá ser expedido a quienes realicen la explotación, el aprovechamiento, transporte, almacenamiento, comercialización, importación, exportación, transformación o que posean materias primas y productos forestales.\n",
      "---\n",
      "Propone que sea una atribución de la  Medio Ambiente y Recursos Naturales expedir el Certificado de Madera Sostenible, para garantizar la sustentabilidad de la materia prima y los productos maderables. Asimismo, propone que corresponda a la Secretaría, emitir el Certificado de Madera Sostenible. El Certificado de Madera Sostenible, únicamente tendrá por objeto garantizar la fuente de la que provenga la madera como materia prima o de los productos derivados de ella. Por último, el Certificado podrá ser expedido a quienes realicen la explotación, el aprovechamiento, transporte, almacenamiento, comercialización, importación, exportación, transformación o que posean materias primas y productos forestales.\n",
      "==================================================\n",
      "Propone incluir en los derechos de las personas privadas de su libertad en un Centro Penitenciario el recibir la atención a la salud mental integral continua y permanentemente.\n",
      "---\n",
      "Propone incluir en los derechos de las personas privadas de su libertad en un [MUNICIPIO] Penitenciario el recibir la atención a la salud mental integral continua y permanentemente.\n",
      "---\n",
      "Propone incluir en los derechos de las personas privadas de su libertad en un Centro Penitenciario el recibir la atención a la salud mental integral continua y permanentemente.\n",
      "==================================================\n",
      "Propone que las autoridades federales de las entidades federativas, municipales y demarcaciones de la Ciudad de México, en el ámbito de sus respectivas atribuciones puedan crear espacios que estimulen al acceso a la cultura destinado a niñas, niños y adolescentes.\n",
      "---\n",
      "Propone que las autoridades federales de las entidades federativas, municipales y demarcaciones de la [ESTADO]  en el ámbito de sus respectivas atribuciones puedan crear espacios que estimulen al acceso a la cultura destinado a niñas, niños y adolescentes.\n",
      "---\n",
      "Propone que las autoridades federales de las entidades federativas, municipales y demarcaciones de la [ESTADO]  en el ámbito de sus respectivas atribuciones puedan crear espacios que estimulen al acceso a la cultura destinado a niñas, niños y adolescentes.\n",
      "==================================================\n",
      "Propone derogar las disposiciones de la Ley Federal de Deuda Pública que confieren la facultad al Congreso de la Unión en materia de endeudamiento de la Ciudad de México, así como reformar y derogar diversas disposiciones de la Ley de Disciplina Financiera de los Estados y Municipios con el fin de homologar las atribuciones y obligaciones en materia de contratación de deuda pública de la Ciudad de México respecto de las demás entidades federativas.\n",
      "---\n",
      "Propone derogar las disposiciones de la Ley Federal de Deuda Pública que confieren la facultad al Congreso_Union en materia de endeudamiento de la [ESTADO]  así como reformar y derogar diversas disposiciones de la Ley de Disciplina Financiera de los Estados y Municipios con el fin de homologar las atribuciones y obligaciones en materia de contratación de deuda pública de la [ESTADO] respecto de las demás entidades federativas.\n",
      "---\n",
      "Propone derogar las disposiciones de la Ley Federal de Deuda Pública que confieren la facultad al Congreso_Union en materia de endeudamiento de la [ESTADO]  así como reformar y derogar diversas disposiciones de la Ley de Disciplina Financiera de los Estados y Municipios con el fin de homologar las atribuciones y obligaciones en materia de contratación de deuda pública de la [ESTADO] respecto de las demás entidades federativas.\n",
      "==================================================\n",
      "Propone insertar en la Constitución la figura de la revocación de mandato que será como un medio de control constitucional de participación ciudadana, para destituir a los representantes de elección popular cuando lo soliciten los ciudadanos y haya transcurrido la mitad de su gestión. Podrán ser sujetos de revocación de mandato mediante consulta ciudadana el presidente de la República, los diputados federales, senadores, gobernadores de las entidades federativas, diputados locales, los integrantes de los ayuntamientos, el jefe de gobierno de la Ciudad de México y los integrantes de las alcaldías de la Ciudad de México. Se faculta al Congreso de la Unión para legislar en materia de revocación de mandato.\n",
      "---\n",
      "Propone insertar en la Constitución la figura de la revocación de mandato que será como un medio de control constitucional de participación ciudadana, para destituir a los representantes de elección popular cuando lo soliciten los ciudadanos y haya transcurrido la mitad de su gestión. Podrán ser sujetos de revocación de mandato mediante consulta ciudadana el presidente de la República, los diputados federales, senadores, gobernadores de las entidades federativas, diputados locales, los integrantes de los ayuntamientos, el jefe de gobierno de la [ESTADO] y los integrantes de las alcaldías de la [ESTADO]  Se faculta al Congreso_Union para legislar en materia de revocación de mandato.\n",
      "---\n",
      "Propone insertar en la Constitución la figura de la revocación de mandato que será como un medio de control constitucional de participación ciudadana, para destituir a los representantes de elección popular cuando lo soliciten los ciudadanos y haya transcurrido la mitad de su gestión. Podrán ser sujetos de revocación de mandato mediante consulta ciudadana el presidente de la República, los diputados federales, senadores, gobernadores de las entidades federativas, diputados locales, los integrantes de los ayuntamientos, el jefe de gobierno de la [ESTADO] y los integrantes de las alcaldías de la [ESTADO]  Se faculta al Congreso_Union para legislar en materia de revocación de mandato.\n",
      "==================================================\n",
      "En la Ley del Seguro Social propone derogar la mención que se hace en relación al servicio de guarderías que se proporcionará en el turno matutino y vespertino, pudiendo tener acceso a alguno de estos turnos, el hijo del trabajador cuya jornada de labores sea nocturna. La reforma a la Ley del ISSSTE consiste en que el Instituto proporcione a precios módicos los servicios de atención para el bienestar y desarrollo infantil, sin ningún tipo de distinción entre mujeres y hombres trabajadores.\n",
      "---\n",
      "En la Ley del Seguro Social propone derogar la mención que se hace en relación al servicio de guarderías que se proporcionará en el turno matutino y vespertino, pudiendo tener acceso a alguno de estos turnos, el hijo del trabajador cuya jornada de labores sea nocturna. [MUNICIPIO] a la Ley del ISSSTE consiste en que el Instituto proporcione a precios módicos los servicios de atención para el bienestar y desarrollo infantil, sin ningún tipo de distinción entre mujeres y hombres trabajadores.\n",
      "---\n",
      "En la Ley del Seguro Social propone derogar la mención que se hace en relación al servicio de guarderías que se proporcionará en el turno matutino y vespertino, pudiendo tener acceso a alguno de estos turnos, el hijo del trabajador cuya jornada de labores sea nocturna. La reforma a la Ley del ISSSTE consiste en que el Instituto proporcione a precios módicos los servicios de atención para el bienestar y desarrollo infantil, sin ningún tipo de distinción entre mujeres y hombres trabajadores.\n",
      "==================================================\n",
      "Propone que las adiciones o reformas a las leyes de carácter general expedidas por el Congreso de la Unión sean aprobadas por la mayoría de las legislaturas de los Estados y la Ciudad de México.\n",
      "---\n",
      "Propone que las adiciones o reformas a las leyes de carácter general expedidas por el Congreso_Union sean aprobadas por la mayoría de las legislaturas de los Estados y la [ESTADO] \n",
      "---\n",
      "Propone que las adiciones o reformas a las leyes de carácter general expedidas por el Congreso_Union sean aprobadas por la mayoría de las legislaturas de los Estados y la [ESTADO] \n",
      "==================================================\n",
      "Propone adicionar un párrafo a Ley de Adquisiciones, Arrendamientos y Servicios del Sector Público, en el que se establezca que los interesados en participar en los procesos de contratación por licitación pública, expedirán invitación a cuando menos tres personas, deberán certificarse en materia de igualdad salarial, laboral y no discriminación, emitida por las autoridades y organismos facultados para tal efecto. Plantea la adición de un párrafo al artículo 27 de la Ley de Obras Públicas y Servicios Relacionados con las Mismas, con el propósito de establecer que los interesados en participar en los procesos de contratación, señalados en el párrafo precedente, se certifiquen en materia de no discriminación e igualdad laboral. Asimismo, la reforma al artículo 19 de la Ley Orgánica de la Administración Pública Federal propone incorporar un párrafo a efecto de que cada dependencia y entidad de la Administración Pública Federal se certifique en materia de igualdad laboral y no discriminación. Reforma la fracción II del artículo 149 Ter del Código Penal Federal, para agregar a las personas con discapacidad como uno de los supuestos principales en la modalidad de discriminación consistente en negar o restringir derechos laborales.\n",
      "---\n",
      "Propone adicionar un párrafo a Ley de Adquisiciones, Arrendamientos y Servicios del Sector Público, en el que se establezca que los interesados en participar en los procesos de contratación por licitación pública, expedirán invitación a cuando menos tres personas, deberán certificarse en materia de igualdad salarial, laboral y no discriminación, emitida por las autoridades y organismos facultados para tal efecto. Plantea la adición de un párrafo al artículo 27 de la Ley de Obras Públicas y Servicios Relacionados con las Mismas, con el propósito de establecer que los interesados en participar en los procesos de contratación, señalados en el párrafo precedente, se certifiquen en materia de no discriminación e igualdad laboral. Asimismo, la reforma al artículo 19 de la Ley Orgánica de la Administración Pública Federal propone incorporar un párrafo a efecto de que cada dependencia y entidad de la Administración Pública Federal se certifique en materia de igualdad laboral y no discriminación. [MUNICIPIO] la fracción II del artículo 149 Ter del Código Penal Federal, para agregar a las personas con discapacidad como uno de los supuestos principales en la modalidad de discriminación consistente en negar o restringir derechos laborales.\n",
      "---\n",
      "Propone adicionar un párrafo a Ley de Adquisiciones, Arrendamientos y Servicios del Sector Público, en el que se establezca que los interesados en participar en los procesos de contratación por licitación pública, expedirán invitación a cuando menos tres personas, deberán certificarse en materia de igualdad salarial, laboral y no discriminación, emitida por las autoridades y organismos facultados para tal efecto. Plantea la adición de un párrafo al artículo 27 de la Ley de Obras Públicas y Servicios Relacionados con las Mismas, con el propósito de establecer que los interesados en participar en los procesos de contratación, señalados en el párrafo precedente, se certifiquen en materia de no discriminación e igualdad laboral. Asimismo, la reforma al artículo 19 de la Ley Orgánica de la Administración Pública Federal propone incorporar un párrafo a efecto de que cada dependencia y entidad de la Administración Pública Federal se certifique en materia de igualdad laboral y no discriminación. Reforma la fracción II del artículo 149 Ter del Código Penal Federal, para agregar a las personas con discapacidad como uno de los supuestos principales en la modalidad de discriminación consistente en negar o restringir derechos laborales.\n",
      "==================================================\n",
      "Propone que los Estados, Municipios y la Ciudad de México, puedan presentar ante la Secretaría, proyectos de declaratoria de Zonas de Desarrollo Turístico Sustentable, estableciendo mecanismos de participación ciudadana para la elaboración de dichos proyectos, con perspectiva de género e interculturalidad.\n",
      "---\n",
      "Propone que los Estados, Municipios y la [ESTADO]  puedan presentar ante la Secretaría, proyectos de declaratoria de Zonas de Desarrollo Turístico Sustentable, estableciendo mecanismos de participación ciudadana para la elaboración de dichos proyectos, con perspectiva de género e interculturalidad.\n",
      "---\n",
      "Propone que los Estados, Municipios y la [ESTADO]  puedan presentar ante la Secretaría, proyectos de declaratoria de Zonas de Desarrollo Turístico Sustentable, estableciendo mecanismos de participación ciudadana para la elaboración de dichos proyectos, con perspectiva de género e interculturalidad.\n",
      "==================================================\n",
      "Propone establecer el derecho a la salud bucodental para niñas, niños y adolescentes, así como recibir la prestación de servicios de atención dental gratuita y de calidad. Por ello, se faculta a las autoridades federales, de las entidades federativas, municipales y de las demarcaciones territoriales de la Ciudad de México, en el ámbito de sus competencias, se coordinen a fin de fortalecer el autocuidado y la prevención de las enfermedades bucodentales.\n",
      "---\n",
      "Propone establecer el derecho a la salud bucodental para niñas, niños y adolescentes, así como recibir la prestación de servicios de atención dental gratuita y de calidad. Por ello, se faculta a las autoridades federales, de las entidades federativas, municipales y de las demarcaciones territoriales de la [ESTADO]  en el ámbito de sus competencias, se coordinen a fin de fortalecer el autocuidado y la prevención de las enfermedades bucodentales.\n",
      "---\n",
      "Propone establecer el derecho a la salud bucodental para niñas, niños y adolescentes, así como recibir la prestación de servicios de atención dental gratuita y de calidad. Por ello, se faculta a las autoridades federales, de las entidades federativas, municipales y de las demarcaciones territoriales de la [ESTADO]  en el ámbito de sus competencias, se coordinen a fin de fortalecer el autocuidado y la prevención de las enfermedades bucodentales.\n",
      "==================================================\n",
      "Propone que el ciudadano que haya ejercido su derecho a votar en las elecciones populares será acreedor a los beneficios fiscales y administrativos que otorguen la Federación, las entidades federativas, la Ciudad de México y los municipios, en el marco de sus atribuciones, por el ejercicio de este derecho.  Sin embargo el ciudadano que no haga uso de este derecho será acreedor de sanción administrativa.\n",
      "---\n",
      "Propone que el ciudadano que haya ejercido su derecho a votar en las elecciones populares será acreedor a los beneficios fiscales y administrativos que otorguen la Federación, las entidades federativas, la [ESTADO] y los municipios, en el marco de sus atribuciones, por el ejercicio de este derecho.  Sin embargo el ciudadano que no haga uso de este derecho será acreedor de sanción administrativa.\n",
      "---\n",
      "Propone que el ciudadano que haya ejercido su derecho a votar en las elecciones populares será acreedor a los beneficios fiscales y administrativos que otorguen la Federación, las entidades federativas, la [ESTADO] y los municipios, en el marco de sus atribuciones, por el ejercicio de este derecho.  Sin embargo el ciudadano que no haga uso de este derecho será acreedor de sanción administrativa.\n",
      "==================================================\n",
      "Propone que el Ejecutivo Federal, la Cámara de Diputados, los Gobernadores y Congresos de los Estados, y el Jefe de Gobierno de la Ciudad de México, deberán destinar y aprobar los recursos económicos suficientes en todos los presupuestos, sin omitir algún ejercicio fiscal, para el diagnóstico, diseño, ejecución y evaluación de los programas y acciones para la prevención social de la violencia y la delincuencia.\n",
      "---\n",
      "Propone que el Ejecutivo Federal, la Cámara de Diputados, los Gobernadores y Congresos de los Estados, y el Jefe de Gobierno de la [ESTADO]  deberán destinar y aprobar los recursos económicos suficientes en todos los presupuestos, sin omitir algún ejercicio fiscal, para el diagnóstico, diseño, ejecución y evaluación de los programas y acciones para la prevención social de la violencia y la delincuencia.\n",
      "---\n",
      "Propone que el Ejecutivo Federal, la Cámara de Diputados, los Gobernadores y Congresos de los Estados, y el Jefe de Gobierno de la [ESTADO]  deberán destinar y aprobar los recursos económicos suficientes en todos los presupuestos, sin omitir algún ejercicio fiscal, para el diagnóstico, diseño, ejecución y evaluación de los programas y acciones para la prevención social de la violencia y la delincuencia.\n",
      "==================================================\n",
      "Propone determinar obligaciones para los patrones: - Otorgar a los trabajadores permiso de 3 días hábiles con goce de sueldo, por fallecimiento, accidente o enfermedad de su cónyuge, concubino o familiar hasta en un segundo grado. Para ejercer este derecho el trabajador deberá hacérselo saber a su empleador mediante documento que acredite dicho suceso en un plazo de 15 días naturales a partir de su reingreso. - Entregar impreso del contrato colectivo una vez que este haya sido registrado en el Centro Federal de Conciliación y Registro Laboral; - Colocar en lugar visible la convocatoria y documentos relacionados con el Centro Federal y Registro Laboral; e - Implementar un protocolo para prevenir la discriminación.\n",
      "---\n",
      "Propone determinar obligaciones para los patrones: - Otorgar a los trabajadores permiso de 3 días hábiles con goce de sueldo, por fallecimiento, accidente o enfermedad de su cónyuge, concubino o familiar hasta en un segundo grado. Para ejercer este derecho el trabajador deberá hacérselo saber a su empleador mediante documento que acredite dicho suceso en un plazo de 15 días naturales a partir de su reingreso. - Entregar impreso del contrato colectivo una vez que este haya sido registrado en el [MUNICIPIO] Federal de Conciliación y Registro Laboral; - Colocar en lugar visible la convocatoria y documentos relacionados con el [MUNICIPIO] Federal y Registro Laboral; e - Implementar un protocolo para prevenir la discriminación.\n",
      "---\n",
      "Propone determinar obligaciones para los patrones: - Otorgar a los trabajadores permiso de 3 días hábiles con goce de sueldo, por fallecimiento, accidente o enfermedad de su cónyuge, concubino o familiar hasta en un segundo grado. Para ejercer este derecho el trabajador deberá hacérselo saber a su empleador mediante documento que acredite dicho suceso en un plazo de 15 días naturales a partir de su reingreso. - Entregar impreso del contrato colectivo una vez que este haya sido registrado en el Centro Federal de Conciliación y Registro Laboral; - Colocar en lugar visible la convocatoria y documentos relacionados con el Centro Federal y Registro Laboral; e - Implementar un protocolo para prevenir la discriminación.\n",
      "==================================================\n",
      "Propone establecer que el Estado deberá formular la Estrategia Nacional de Seguridad y Combate al Ciberacoso, con el objetivo de garantizar el acceso y uso seguro del internet, a través de la colaboración y coordinación entre la federación, las entidades federativas, los municipios y las demarcaciones territoriales de la Ciudad de México, para la formulación, ejecución e instrumentación de políticas, programas y acciones en materia de protección de niñas, niños y adolescentes en el entorno digital.\n",
      "---\n",
      "Propone establecer que el Estado deberá formular la Estrategia Nacional de Seguridad y Combate al Ciberacoso, con el objetivo de garantizar el acceso y uso seguro del internet, a través de la colaboración y coordinación entre la federación, las entidades federativas, los municipios y las demarcaciones territoriales de la [ESTADO]  para la formulación, ejecución e instrumentación de políticas, programas y acciones en materia de protección de niñas, niños y adolescentes en el entorno digital.\n",
      "---\n",
      "Propone establecer que el Estado deberá formular la Estrategia Nacional de Seguridad y Combate al Ciberacoso, con el objetivo de garantizar el acceso y uso seguro del internet, a través de la colaboración y coordinación entre la federación, las entidades federativas, los municipios y las demarcaciones territoriales de la [ESTADO]  para la formulación, ejecución e instrumentación de políticas, programas y acciones en materia de protección de niñas, niños y adolescentes en el entorno digital.\n",
      "==================================================\n",
      "Propone establecer el 1 de abril de cada año como el Día Nacional de las y los Profesionales del Café, lo anterior para impulsar y reconocer esta especialidad. Se propone el 1 de abril debido a que varias entidades han decretado el día del barista este año y también se conmemora el fallecimiento del barista mexicano Aquiles González Pereyra.\n",
      "---\n",
      "Propone establecer el 1 de abril de cada año como el Día Nacional de las y los Profesionales del Café, lo anterior para impulsar y reconocer esta especialidad. Se propone el 1 de abril debido a que varias entidades han decretado el día del barista este año y también se conmemora el fallecimiento del barista mexicano Aquiles [MUNICIPIO] Pereyra.\n",
      "---\n",
      "Propone establecer el 1 de abril de cada año como el Día Nacional de las y los Profesionales del Café, lo anterior para impulsar y reconocer esta especialidad. Se propone el 1 de abril debido a que varias entidades han decretado el día del barista este año y también se conmemora el fallecimiento del barista mexicano Aquiles González Pereyra.\n",
      "==================================================\n",
      "Propone establecer que los Senadores y Diputados en funciones o con licencia del Congreso de la Unión, no podrán ser reelectos para el periodo inmediato, solo los suplentes que no hayan ejercido el cargo podrán ser electos. Los Presidentes municipales, regidores y síndicos de los Ayuntamientos, electos popularmente por elección directa, no podrán ser reelectos para el periodo inmediato. Las personas que, por elección indirecta, por nombramiento o designación de alguna autoridad, desempeñen las funciones propias de esos cargos, cualquiera que sea la denominación que se le dé, no podrán ser electos para el periodo inmediato.  Los diputados a las legislaturas de los Estados y de la Ciudad de México no podrán ser reelectos para el periodo inmediato como propietarios o suplentes. Los diputados suplentes en ejercicio del cargo no podrán ser electos para el periodo inmediato, salvo que no hayan estado en ejercicio.\n",
      "---\n",
      "Propone establecer que los Senadores y Diputados en funciones o con licencia del Congreso_Union, no podrán ser reelectos para el periodo inmediato, solo los suplentes que no hayan ejercido el cargo podrán ser electos. Los Presidentes municipales, regidores y síndicos de los Ayuntamientos, electos popularmente por elección directa, no podrán ser reelectos para el periodo inmediato. Las personas que, por elección indirecta, por nombramiento o designación de alguna autoridad, desempeñen las funciones propias de esos cargos, cualquiera que sea la denominación que se le dé, no podrán ser electos para el periodo inmediato.  Los diputados a las legislaturas de los Estados y de la [ESTADO] no podrán ser reelectos para el periodo inmediato como propietarios o suplentes. Los diputados suplentes en ejercicio del cargo no podrán ser electos para el periodo inmediato, salvo que no hayan estado en ejercicio.\n",
      "---\n",
      "Propone establecer que los Senadores y Diputados en funciones o con licencia del Congreso_Union, no podrán ser reelectos para el periodo inmediato, solo los suplentes que no hayan ejercido el cargo podrán ser electos. Los Presidentes municipales, regidores y síndicos de los Ayuntamientos, electos popularmente por elección directa, no podrán ser reelectos para el periodo inmediato. Las personas que, por elección indirecta, por nombramiento o designación de alguna autoridad, desempeñen las funciones propias de esos cargos, cualquiera que sea la denominación que se le dé, no podrán ser electos para el periodo inmediato.  Los diputados a las legislaturas de los Estados y de la [ESTADO] no podrán ser reelectos para el periodo inmediato como propietarios o suplentes. Los diputados suplentes en ejercicio del cargo no podrán ser electos para el periodo inmediato, salvo que no hayan estado en ejercicio.\n",
      "==================================================\n",
      "El objeto de la iniciativa es establecer como requisito para ser Jefe del Servicio de Administración Tributaria contar con título profesional al menos con diez años de antigüedad y se cuente a la vez, con estudios especializados en las materias que son responsabilidad de este órgano desconcentrado, lo cual es acorde con el principio de igualdad en el acceso a la función pública y propicia la captación de los mejores perfiles para el servicio del Estado. En el mismo sentido, se propone que no desempeñe durante el periodo de su encargo ninguna otra comisión o empleo dentro de la Federación, Entidades Federativas, Municipios, alcaldías de la Ciudad de México, órganos autónomos constitucionales, organismos descentralizados, empresas productivas del estado, empresas de participación estatal o de algún particular, excepto los cargos o empleos de carácter docente y los honoríficos; así como también estará impedido para ejercer su profesión, salvo en causa propia\n",
      "---\n",
      "El objeto de la iniciativa es establecer como requisito para ser Jefe del Servicio de Administración Tributaria contar con título profesional al menos con diez años de antigüedad y se cuente a la vez, con estudios especializados en las materias que son responsabilidad de este órgano desconcentrado, lo cual es acorde con el principio de igualdad en el acceso a la función pública y propicia la captación de los mejores perfiles para el servicio del Estado. En el mismo sentido, se propone que no desempeñe durante el periodo de su encargo ninguna otra comisión o empleo dentro de la Federación, Entidades Federativas, Municipios, alcaldías de la [ESTADO]  órganos autónomos constitucionales, organismos descentralizados, empresas productivas del estado, empresas de participación estatal o de algún particular, excepto los cargos o empleos de carácter docente y los honoríficos; así como también estará impedido para ejercer su profesión, salvo en causa propia\n",
      "---\n",
      "El objeto de la iniciativa es establecer como requisito para ser Jefe del Servicio de Administración Tributaria contar con título profesional al menos con diez años de antigüedad y se cuente a la vez, con estudios especializados en las materias que son responsabilidad de este órgano desconcentrado, lo cual es acorde con el principio de igualdad en el acceso a la función pública y propicia la captación de los mejores perfiles para el servicio del Estado. En el mismo sentido, se propone que no desempeñe durante el periodo de su encargo ninguna otra comisión o empleo dentro de la Federación, Entidades Federativas, Municipios, alcaldías de la [ESTADO]  órganos autónomos constitucionales, organismos descentralizados, empresas productivas del estado, empresas de participación estatal o de algún particular, excepto los cargos o empleos de carácter docente y los honoríficos; así como también estará impedido para ejercer su profesión, salvo en causa propia\n",
      "==================================================\n",
      "Propone que el costo del levantamiento vinculado al índice de rezago social a nivel localidad se financie una vez cada cinco años, descontándolo de los recursos provenientes del Fondo de Aportaciones a la Infraestructura Social. En el caso de los municipios y de las demarcaciones territoriales, éstos podrán disponer de hasta un 2% del total de recursos del Fondo para la Infraestructura Social Municipal y de las Demarcaciones Territoriales del Distrito Federal que les correspondan. Las entidades, los municipios o demarcaciones territoriales podrán destinar hasta el 3% de los recursos que les correspondan de este Fondo para ser aplicados como gastos indirectos para la verificación y seguimiento de las obras y acciones que se realicen, así como para la realización de estudios y la evaluación de proyectos.\n",
      "---\n",
      "Propone que el costo del levantamiento vinculado al índice de rezago social a nivel localidad se financie una vez cada cinco años, descontándolo de los recursos provenientes del Fondo de Aportaciones a la Infraestructura Social. En el caso de los municipios y de las demarcaciones territoriales, éstos podrán disponer de hasta un 2% del total de recursos del Fondo para la Infraestructura Social Municipal y de las Demarcaciones Territoriales del [ESTADO] que les correspondan. Las entidades, los municipios o demarcaciones territoriales podrán destinar hasta el 3% de los recursos que les correspondan de este Fondo para ser aplicados como gastos indirectos para la verificación y seguimiento de las obras y acciones que se realicen, así como para la realización de estudios y la evaluación de proyectos.\n",
      "---\n",
      "Propone que el costo del levantamiento vinculado al índice de rezago social a nivel localidad se financie una vez cada cinco años, descontándolo de los recursos provenientes del Fondo de Aportaciones a la Infraestructura Social. En el caso de los municipios y de las demarcaciones territoriales, éstos podrán disponer de hasta un 2% del total de recursos del Fondo para la Infraestructura Social Municipal y de las Demarcaciones Territoriales del [ESTADO] que les correspondan. Las entidades, los municipios o demarcaciones territoriales podrán destinar hasta el 3% de los recursos que les correspondan de este Fondo para ser aplicados como gastos indirectos para la verificación y seguimiento de las obras y acciones que se realicen, así como para la realización de estudios y la evaluación de proyectos.\n",
      "==================================================\n",
      "Propone establecer diversos mecanismos de seguridad que se deban implementar en las instituciones del Estado frente a ciberataques que pudiesen llegar a ser vulnerables. Además, propone la expedición de una Ley General de Ciberseguridad misma que establece los delitos en materia de ciberataques, así como los términos en que las autoridades de las entidades federativas y los municipios colaborarán con la Federación en dicha tarea, con el fin de garantizar el derecho de acceso a las tecnologías de la información y comunicación. También propone la creación de una Comisión Permanente de Ciberseguridad, la cual estará dentro de la estructura del Consejo Nacional de Seguridad Pública a efecto de encargarse de los temas relacionados en la materia. Por otra parte, propone la creación del Centro Nacional de Ciberseguridad e incluirlo dentro de la estructura del Secretariado Ejecutivo del Sistema Nacional de Seguridad Pública, encargado de dar seguimiento a las acciones que se tenga conocimiento sobre la seguridad en la materia de las instituciones del Estado. Para ello, propone que la persona titular de dicho centro sea nombrada y removida libremente por el Consejo Nacional de Seguridad Pública.\n",
      "---\n",
      "Propone establecer diversos mecanismos de seguridad que se deban implementar en las instituciones del Estado frente a ciberataques que pudiesen llegar a ser vulnerables. Además, propone la expedición de una Ley General de Ciberseguridad misma que establece los delitos en materia de ciberataques, así como los términos en que las autoridades de las entidades federativas y los municipios colaborarán con la Federación en dicha tarea, con el fin de garantizar el derecho de acceso a las tecnologías de la información y comunicación. También propone la creación de una Comisión Permanente de Ciberseguridad, la cual estará dentro de la estructura del Consejo Nacional de Seguridad Pública a efecto de encargarse de los temas relacionados en la materia. Por otra parte, propone la creación del [MUNICIPIO] Nacional de Ciberseguridad e incluirlo dentro de la estructura del Secretariado Ejecutivo del Sistema Nacional de Seguridad Pública, encargado de dar seguimiento a las acciones que se tenga conocimiento sobre la seguridad en la materia de las instituciones del Estado. Para ello, propone que la persona titular de dicho centro sea nombrada y removida libremente por el Consejo Nacional de Seguridad Pública.\n",
      "---\n",
      "Propone establecer diversos mecanismos de seguridad que se deban implementar en las instituciones del Estado frente a ciberataques que pudiesen llegar a ser vulnerables. Además, propone la expedición de una Ley General de Ciberseguridad misma que establece los delitos en materia de ciberataques, así como los términos en que las autoridades de las entidades federativas y los municipios colaborarán con la Federación en dicha tarea, con el fin de garantizar el derecho de acceso a las tecnologías de la información y comunicación. También propone la creación de una Comisión Permanente de Ciberseguridad, la cual estará dentro de la estructura del Consejo Nacional de Seguridad Pública a efecto de encargarse de los temas relacionados en la materia. Por otra parte, propone la creación del Centro Nacional de Ciberseguridad e incluirlo dentro de la estructura del Secretariado Ejecutivo del Sistema Nacional de Seguridad Pública, encargado de dar seguimiento a las acciones que se tenga conocimiento sobre la seguridad en la materia de las instituciones del Estado. Para ello, propone que la persona titular de dicho centro sea nombrada y removida libremente por el Consejo Nacional de Seguridad Pública.\n",
      "==================================================\n",
      "Propone incluir como atribución de la Secretaría de Gobernación el formular y conducir la política de población vinculada con los efectos del Cambio Climático, en coordinación con la Secretaría de Medio Ambiente y Recursos Naturales, con las autoridades de los Gobiernos de los Estados y la Ciudad de México, con losgobiernos municipales y con las dependencias y entidades de la Administración Pública Federal.\n",
      "---\n",
      "Propone incluir como atribución de la  Gobernación el formular y conducir la política de población vinculada con los efectos del Cambio Climático, en coordinación con la  Medio Ambiente y Recursos Naturales, con las autoridades de los Gobiernos de los Estados y la [ESTADO]  con losgobiernos municipales y con las dependencias y entidades de la Administración Pública Federal.\n",
      "---\n",
      "Propone incluir como atribución de la  Gobernación el formular y conducir la política de población vinculada con los efectos del Cambio Climático, en coordinación con la  Medio Ambiente y Recursos Naturales, con las autoridades de los Gobiernos de los Estados y la [ESTADO]  con losgobiernos municipales y con las dependencias y entidades de la Administración Pública Federal.\n",
      "==================================================\n",
      "Propone facultar al Congreso de la Unión para expedir leyes que establezcan la concurrencia de la federación, las entidades federativas, los municipios, la Ciudad de México y sus demarcaciones territoriales, en materia de acceso a las mujeres a una vida libre de violencia.\n",
      "---\n",
      "Propone facultar al Congreso_Union para expedir leyes que establezcan la concurrencia de la federación, las entidades federativas, los municipios, la [ESTADO] y sus demarcaciones territoriales, en materia de acceso a las mujeres a una vida libre de violencia.\n",
      "---\n",
      "Propone facultar al Congreso_Union para expedir leyes que establezcan la concurrencia de la federación, las entidades federativas, los municipios, la [ESTADO] y sus demarcaciones territoriales, en materia de acceso a las mujeres a una vida libre de violencia.\n",
      "==================================================\n",
      "Propone que el Senado de la República declare a la ciudad de Macuspana, Tabasco “Cuna del Petróleo en México” para fortalecer la derrama económica en dicha localidad.\n",
      "---\n",
      "Propone que el Senado_Republica declare a la ciudad de [MUNICIPIO]  [ESTADO] “Cuna del Petróleo en México” para fortalecer la derrama económica en dicha localidad.\n",
      "---\n",
      "Propone que el Senado_Republica declare a la ciudad de Macuspana, Tabasco “Cuna del Petróleo en México” para fortalecer la derrama económica en dicha localidad.\n",
      "==================================================\n",
      "Propone que se declare a la edificación denominada Estela de Luz ubicada en Lieja, 270, Bosque de Chapultepec, Ciudad de México como un Anti- Monumento a la Corrupción; y al 7 de enero de cada año como el Día Nacional de la Lucha Contra la Corrupción, lo anterior porque fue inaugurada el 7 de enero de 2012.\n",
      "---\n",
      "Propone que se declare a la edificación denominada Estela de Luz ubicada en Lieja, 270, Bosque de [MUNICIPIO]  [ESTADO] como un Anti- Monumento a la Corrupción; y al 7 de enero de cada año como el Día Nacional de la Lucha Contra la Corrupción, lo anterior porque fue inaugurada el 7 de enero de 2012.\n",
      "---\n",
      "Propone que se declare a la edificación denominada Estela de Luz ubicada en Lieja, 270, Bosque de [MUNICIPIO]  [ESTADO] como un Anti- Monumento a la Corrupción; y al 7 de enero de cada año como el Día Nacional de la Lucha Contra la Corrupción, lo anterior porque fue inaugurada el 7 de enero de 2012.\n",
      "==================================================\n",
      "Propone modificar las referencias en la Ley al Distrito Federal por Ciudad de México; y las referencias al Código Penal para el Distrito Federal en Materia del Fuero Común y para toda la República en Materia de Fuero Federal por Código Penal Federal.\n",
      "---\n",
      "Propone modificar las referencias en la Ley al [ESTADO] por Ciudad de México; y las referencias al Código Penal para el [ESTADO] en Materia del Fuero Común y para toda la República en Materia de Fuero Federal por Código Penal Federal.\n",
      "---\n",
      "Propone modificar las referencias en la Ley al [ESTADO] por Ciudad de México; y las referencias al Código Penal para el [ESTADO] en Materia del Fuero Común y para toda la República en Materia de Fuero Federal por Código Penal Federal.\n",
      "==================================================\n",
      "Propone establecer que los municipios y las demarcaciones territoriales de la Ciudad de México promoverán la creación de fondos similares al Fondo Estatal de Protección Civil. Por otra parte, armoniza normativamente la Ley, de conformidad con la reforma política de la Ciudad de México.\n",
      "---\n",
      "Propone establecer que los municipios y las demarcaciones territoriales de la [ESTADO] promoverán la creación de fondos similares al Fondo Estatal de Protección Civil. Por otra parte, armoniza normativamente la Ley, de conformidad con la reforma política de la [ESTADO] \n",
      "---\n",
      "Propone establecer que los municipios y las demarcaciones territoriales de la [ESTADO] promoverán la creación de fondos similares al Fondo Estatal de Protección Civil. Por otra parte, armoniza normativamente la Ley, de conformidad con la reforma política de la [ESTADO] \n",
      "==================================================\n",
      "Pretende establecer el Horario Estacional que se aplicaría en los Estados Unidos Mexicanos, para quedar como sigue: Los estados de Baja California Sur, Chihuahua y Nayarit sujetos al meridiano 105 grados por ubicación y 90 grados por horario estacional. Los estados de Sonora y Sinaloa sujetos al meridiano 105 grados por ubicación 105 grados por horario estacional.\n",
      "---\n",
      "Pretende establecer el Horario Estacional que se aplicaría en los Estados Unidos Mexicanos, para quedar como sigue: Los [ESTADO]  [ESTADO] Sur, [ESTADO] y [ESTADO] sujetos al meridiano 105 grados por ubicación y 90 grados por horario estacional. Los [ESTADO] y [ESTADO] sujetos al meridiano 105 grados por ubicación 105 grados por horario estacional.\n",
      "---\n",
      "Pretende establecer el Horario Estacional que se aplicaría en los Estados Unidos Mexicanos, para quedar como sigue: Los [ESTADO]  [ESTADO] Sur, [ESTADO] y [ESTADO] sujetos al meridiano 105 grados por ubicación y 90 grados por horario estacional. Los [ESTADO] y [ESTADO] sujetos al meridiano 105 grados por ubicación 105 grados por horario estacional.\n",
      "==================================================\n",
      "Propone que se inscriba con letras doradas en el muro de honor del salón de sesiones del Senado de la República el nombre del C. Rudensio Cantarell Jiménez, por haber descubierto el yacimiento de petróleo más grande de América Latina y el segundo más grande a nivel mundial en 1971.\n",
      "---\n",
      "Propone que se inscriba con letras doradas en el muro de honor del salón de sesiones del Senado_Republica el nombre del C. Rudensio Cantarell [MUNICIPIO]  por haber descubierto el yacimiento de petróleo más grande de América Latina y el segundo más grande a nivel mundial en 1971.\n",
      "---\n",
      "Propone que se inscriba con letras doradas en el muro de honor del salón de sesiones del Senado_Republica el nombre del C. Rudensio Cantarell Jiménez, por haber descubierto el yacimiento de petróleo más grande de América Latina y el segundo más grande a nivel mundial en 1971.\n",
      "==================================================\n",
      "Propone establecer que con el objetivo de evitar la discriminación en pacientes con VIH/SIDA, las instituciones públicas de Salud garantizarán los estudios de laboratorio, atención médica, tratamiento antirretroviral y seguimiento sin costo a cualquier persona que acuda a un Centro de atención; presentando únicamente identificación oficial, sin importar su unidad de procedencia o derechohabiencia.  Pretende prohibir a los patrones, el condicionar el ingreso, permanencia y ascenso en el empleo a la presentación de estudios médicos de detección de VIH/SIDA, así como despedir a cualquier trabajador o coaccionarlo directa o indirectamente para que renuncie por ser portador de esta enfermedad.\n",
      "---\n",
      "Propone establecer que con el objetivo de evitar la discriminación en pacientes con VIH/SIDA, las instituciones públicas de Salud garantizarán los estudios de laboratorio, atención médica, tratamiento antirretroviral y seguimiento sin costo a cualquier persona que acuda a un [MUNICIPIO] de atención; presentando únicamente identificación oficial, sin importar su unidad de procedencia o derechohabiencia.  Pretende prohibir a los patrones, el condicionar el ingreso, permanencia y ascenso en el empleo a la presentación de estudios médicos de detección de VIH/SIDA, así como despedir a cualquier trabajador o coaccionarlo directa o indirectamente para que renuncie por ser portador de esta enfermedad.\n",
      "---\n",
      "Propone establecer que con el objetivo de evitar la discriminación en pacientes con VIH/SIDA, las instituciones públicas de Salud garantizarán los estudios de laboratorio, atención médica, tratamiento antirretroviral y seguimiento sin costo a cualquier persona que acuda a un Centro de atención; presentando únicamente identificación oficial, sin importar su unidad de procedencia o derechohabiencia.  Pretende prohibir a los patrones, el condicionar el ingreso, permanencia y ascenso en el empleo a la presentación de estudios médicos de detección de VIH/SIDA, así como despedir a cualquier trabajador o coaccionarlo directa o indirectamente para que renuncie por ser portador de esta enfermedad.\n",
      "==================================================\n",
      "Propone armonizar el marco jurídico del Juicio de Amparo con las reformas constitucionales recientes sobre la Fiscalía General de la República, Desindexación del Salario Mínimo, Reforma Política de la Ciudad de México y Justicia Laboral.\n",
      "---\n",
      "Propone armonizar el marco jurídico del Juicio de Amparo con las reformas constitucionales recientes sobre la Fiscalía General de la República, Desindexación del Salario Mínimo, [MUNICIPIO] Política de la [ESTADO] y Justicia Laboral.\n",
      "---\n",
      "Propone armonizar el marco jurídico del Juicio de Amparo con las reformas constitucionales recientes sobre la Fiscalía General de la República, Desindexación del Salario Mínimo, [MUNICIPIO] Política de la [ESTADO] y Justicia Laboral.\n",
      "==================================================\n",
      "Propone incluir un capítulo llamado “De la Educación y Capacitación Permanente” el cual atribuye a la Federación, entidades federativas, municipios y demarcaciones territoriales de la Ciudad de México, en el ámbito de sus respectivas competencias, para promover la educación y capacitación permanentes de todas las personas servidoras públicas, en materia de derechos humanos de las mujeres.\n",
      "---\n",
      "Propone incluir un capítulo llamado “De la Educación y Capacitación Permanente” el cual atribuye a la Federación, entidades federativas, municipios y demarcaciones territoriales de la [ESTADO]  en el ámbito de sus respectivas competencias, para promover la educación y capacitación permanentes de todas las personas servidoras públicas, en materia de derechos humanos de las mujeres.\n",
      "---\n",
      "Propone incluir un capítulo llamado “De la Educación y Capacitación Permanente” el cual atribuye a la Federación, entidades federativas, municipios y demarcaciones territoriales de la [ESTADO]  en el ámbito de sus respectivas competencias, para promover la educación y capacitación permanentes de todas las personas servidoras públicas, en materia de derechos humanos de las mujeres.\n",
      "==================================================\n",
      "Propone establecer que el Fondo de Aportaciones para la Infraestructura Social Municipal de las Demarcaciones del Distrito Federal considerará la instalación y operación de Centros de atención para mujeres víctimas de violencia.\n",
      "---\n",
      "Propone establecer que el Fondo de Aportaciones para la Infraestructura Social Municipal de las Demarcaciones del [ESTADO] considerará la instalación y operación de Centros de atención para mujeres víctimas de violencia.\n",
      "---\n",
      "Propone establecer que el Fondo de Aportaciones para la Infraestructura Social Municipal de las Demarcaciones del [ESTADO] considerará la instalación y operación de Centros de atención para mujeres víctimas de violencia.\n",
      "==================================================\n",
      "Propone la homologación del texto legal de las disposiciones que actualmente contemplan al Distrito Federal,\n",
      "---\n",
      "Propone la homologación del texto legal de las disposiciones que actualmente contemplan al [ESTADO] \n",
      "---\n",
      "Propone la homologación del texto legal de las disposiciones que actualmente contemplan al [ESTADO] \n",
      "==================================================\n",
      "Propone que, en el Muro de Honor del Senado de la República, se inscriba la leyenda “El sitio de Cuautla, 72 días de lucha” en virtud de que el 2 de mayo de 2022, se conmemoran 210 de años de este hecho trascendental para el movimiento por la independencia de México.\n",
      "---\n",
      "Propone que, en el Muro de Honor del Senado_Republica, se inscriba la leyenda “El sitio de [MUNICIPIO]  72 días de lucha” en virtud de que el 2 de mayo de 2022, se conmemoran 210 de años de este hecho trascendental para el movimiento por la independencia de México.\n",
      "---\n",
      "Propone que, en el Muro de Honor del Senado_Republica, se inscriba la leyenda “El sitio de Cuautla, 72 días de lucha” en virtud de que el 2 de mayo de 2022, se conmemoran 210 de años de este hecho trascendental para el movimiento por la independencia de México.\n",
      "==================================================\n",
      "Propone eliminar la disposición constitucional que establece que Nayarit tendrá la extensión territorial y limites que comprende actualmente el territorio de Tepic, lo anterior debido a que el autor considera que esta disposición responde a una cuestión histórica porque antes de la Constitución de 1917, a esta Entidad Federativa se le negó el reconocimiento como estado libre y soberano. Además, el autor señala que el artículo 43 constitucional ya garantiza la autonomía y soberanía del estado de Nayarit.\n",
      "---\n",
      "Propone eliminar la disposición constitucional que establece que [ESTADO] tendrá la extensión territorial y limites que comprende actualmente el territorio de [MUNICIPIO]  lo anterior debido a que el autor considera que esta disposición responde a una cuestión histórica porque antes de la Constitución de 1917, a esta Entidad Federativa se le negó el reconocimiento como estado libre y soberano. Además, el autor señala que el artículo 43 constitucional ya garantiza la autonomía y soberanía del [ESTADO] \n",
      "---\n",
      "Propone eliminar la disposición constitucional que establece que [ESTADO] tendrá la extensión territorial y limites que comprende actualmente el territorio de [MUNICIPIO]  lo anterior debido a que el autor considera que esta disposición responde a una cuestión histórica porque antes de la Constitución de 1917, a esta Entidad Federativa se le negó el reconocimiento como estado libre y soberano. Además, el autor señala que el artículo 43 constitucional ya garantiza la autonomía y soberanía del [ESTADO] \n",
      "==================================================\n"
     ]
    }
   ],
   "source": [
    "for _, row in replaced_strings.iterrows():\n",
    "    print(row.original_summary)\n",
    "    print(\"---\")\n",
    "    print(row.clean_state_summary)\n",
    "    print(\"---\")\n",
    "    print(row.clean_state_summary_v2)\n",
    "    print(\"=====\"*10)"
   ]
  },
  {
   "cell_type": "markdown",
   "id": "813e12fc",
   "metadata": {},
   "source": [
    "### Update data in mongo"
   ]
  },
  {
   "cell_type": "code",
   "execution_count": 478,
   "id": "f5bbeffb",
   "metadata": {},
   "outputs": [],
   "source": [
    "updated_data = initiatives_df[[\"_id\", \"clean_summary\", \"clean_state_summary\"]]"
   ]
  },
  {
   "cell_type": "code",
   "execution_count": 492,
   "id": "2357b046",
   "metadata": {},
   "outputs": [],
   "source": [
    "updated_data.to_csv(\"./data/clean_initiatives.csv\")"
   ]
  },
  {
   "cell_type": "code",
   "execution_count": null,
   "id": "11673c0f",
   "metadata": {},
   "outputs": [],
   "source": [
    "db.batch_update_publications(\n",
    "    publications = initiatives_df.to_dict(orient=\"records\"),\n",
    "    table_name = \"unique_publications\", \n",
    "    conn = conn\n",
    ")"
   ]
  },
  {
   "cell_type": "markdown",
   "id": "4e021dfd",
   "metadata": {},
   "source": [
    "## Limpiar proposiciones"
   ]
  },
  {
   "cell_type": "markdown",
   "id": "479d8486",
   "metadata": {},
   "source": [
    "* (ÚNICO/PRIMERO/.../TERCERO) El Senado de la República, ... exhorta/solicita,? respetuosamente,?\n",
    "* Gobierno de .*\n",
    "* (Palacio de )?Gobierno del Estado de .*\n",
    "* [Ee]stado de .*\n",
    "* plazo de .* días/meses\n",
    "* se cumpla con la reforma a los artículos 76 y 78 de la Ley Federal del Trabajo\n",
    "* [a-z])\n",
    "* formula respetuoso exhorto"
   ]
  },
  {
   "cell_type": "code",
   "execution_count": null,
   "id": "a4021235",
   "metadata": {},
   "outputs": [],
   "source": [
    "replacements =[\n",
    "    \"Senado de la República\", \n",
    "    \"Cámara de Senadores\", \n",
    "    \"Honorable Congreso de la Unión\", \n",
    "    \"Comisión Permanente\",\n",
    "    \"Congreso de la Unión\", \n",
    "    \"Cámara de Senadores\", \n",
    "    \"Diario Oficial de la Federación\", \n",
    "    \"Soberanía\", \n",
    "    \"esta [sSoberanía]\"\n",
    "]"
   ]
  },
  {
   "cell_type": "code",
   "execution_count": null,
   "id": "06f796c5",
   "metadata": {},
   "outputs": [],
   "source": [
    "proposal_starters = [\n",
    "    \"ÚNICO\", \n",
    "    \"PRIMERO\", \n",
    "    \"SEGUNDO\", \n",
    "    \"TERCERO\", \n",
    "    \"CUARTO\",\n",
    "    \"QUINTO\"\n",
    "]"
   ]
  },
  {
   "cell_type": "code",
   "execution_count": null,
   "id": "8a418ac9",
   "metadata": {},
   "outputs": [],
   "source": [
    "starter_options = \"|\".join)"
   ]
  },
  {
   "cell_type": "code",
   "execution_count": null,
   "id": "6553cdf5",
   "metadata": {},
   "outputs": [],
   "source": [
    "(ÚNICO/PRIMERO/.../TERCERO) El Senado de la República, ... exhorta/solicita,? respetuosamente,?"
   ]
  }
 ],
 "metadata": {
  "kernelspec": {
   "display_name": "data-analysis",
   "language": "python",
   "name": "data-analysis"
  },
  "language_info": {
   "codemirror_mode": {
    "name": "ipython",
    "version": 3
   },
   "file_extension": ".py",
   "mimetype": "text/x-python",
   "name": "python",
   "nbconvert_exporter": "python",
   "pygments_lexer": "ipython3",
   "version": "3.11.5"
  }
 },
 "nbformat": 4,
 "nbformat_minor": 5
}
